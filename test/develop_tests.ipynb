{
 "cells": [
  {
   "cell_type": "code",
   "execution_count": 1,
   "metadata": {},
   "outputs": [
    {
     "name": "stderr",
     "output_type": "stream",
     "text": [
      "\u001b[36m\u001b[1m[ \u001b[22m\u001b[39m\u001b[36m\u001b[1mInfo: \u001b[22m\u001b[39mPrecompiling Ronin [905eca60-9fa9-4fb3-8835-f5cd63a3719c] \n",
      "WARNING: Method definition calc_iso(AbstractArray{Union{Base.Missing, Float32}, 2}) in module Ronin at /Users/ischluesche/Documents/Grad_School/Research/Ronin/src/RoninFeatures.jl:60 overwritten at /Users/ischluesche/Documents/Grad_School/Research/Ronin/src/RoninFeatures.jl:73.\n",
      "ERROR: Method overwriting is not permitted during Module precompilation. Use `__precompile__(false)` to opt-out of precompilation.\n",
      "\u001b[36m\u001b[1m┌ \u001b[22m\u001b[39m\u001b[36m\u001b[1mInfo: \u001b[22m\u001b[39mSkipping precompilation due to precompilable error. Importing Ronin [905eca60-9fa9-4fb3-8835-f5cd63a3719c].\n",
      "\u001b[36m\u001b[1m└ \u001b[22m\u001b[39m  exception = Error when precompiling module, potentially caused by a __precompile__(false) declaration in the module.\n"
     ]
    },
    {
     "data": {
      "text/plain": [
       "\"../BENCHMARKING/benchmark_setup/benchmark_model.joblib\""
      ]
     },
     "execution_count": 1,
     "metadata": {},
     "output_type": "execute_result"
    }
   ],
   "source": [
    "###Rudimentary test suite to ensure that updates do not break the code \n",
    "using Ronin\n",
    "using Missings \n",
    "using HDF5 \n",
    "using NCDatasets\n",
    "using BenchmarkTools \n",
    "using StatsBase\n",
    "using Scratch\n",
    "\n",
    "using JLD2 \n",
    "include(\"../src/DecisionTree/DecisionTree.jl\")\n",
    "global scratchspace = @get_scratch!(\"ronin_testing\")\n",
    "\n",
    "\n",
    "###Will undergo a basic training/QC pipeline. Model is not meant to output \n",
    "###Correct results, but rather simply show that it can produce data, train a model, \n",
    "###and correctly apply the model to a scan. \n",
    "\n",
    "###The below will be testing for a single-pass model\n",
    "\n",
    "TRAINING_PATH = \"../BENCHMARKING/benchmark_cfrads/\"\n",
    "config_file_path = \"../BENCHMARKING/benchmark_setup/config.txt\"\n",
    "sample_model = \"../BENCHMARKING/benchmark_setup/benchmark_model.joblib\""
   ]
  },
  {
   "cell_type": "code",
   "execution_count": 2,
   "metadata": {},
   "outputs": [
    {
     "data": {
      "text/plain": [
       "\"/Users/ischluesche/.julia/scratchspaces/905eca60-9fa9-4fb3-8835-f5cd63a3719c/ronin_testing/_2.h5\""
      ]
     },
     "execution_count": 2,
     "metadata": {},
     "output_type": "execute_result"
    }
   ],
   "source": [
    "###NEED TO ALLOW THIS TO IGNORE COMMENTS \n",
    "tasks = Ronin.get_task_params(config_file_path)\n",
    "\n",
    "placeholder_matrix = allowmissing(ones(3,3))\n",
    "center_weight::Float64 = 0\n",
    "\n",
    "###Weight matrixes for calculating spatial parameters \n",
    "iso_weights::Matrix{Union{Missing, Float64}} = allowmissing(ones(7,7))\n",
    "iso_weights[4,4] = center_weight \n",
    "iso_window::Tuple{Int64, Int64} = (7,7)\n",
    "\n",
    "avg_weights::Matrix{Union{Missing, Float64}} = allowmissing(ones(5,5))\n",
    "avg_weights[3,3] = center_weight \n",
    "avg_window::Tuple{Int64, Int64} = (5,5)\n",
    "\n",
    "std_weights::Matrix{Union{Missing, Float64}} = allowmissing(ones(5,5))\n",
    "std_weights[3,3] = center_weight \n",
    "std_window::Tuple{Int64, Int64} = (5,5)\n",
    "\n",
    "\n",
    "weight_matrixes = [placeholder_matrix, placeholder_matrix, std_weights, placeholder_matrix, placeholder_matrix, iso_weights]\n",
    "\n",
    "path1 = joinpath(scratchspace, \"_1.h5\")\n",
    "path2 = joinpath(scratchspace, \"_2.h5\")\n",
    "\n",
    "        \n"
   ]
  },
  {
   "cell_type": "code",
   "execution_count": 3,
   "metadata": {},
   "outputs": [
    {
     "data": {
      "text/plain": [
       "closed Dataset"
      ]
     },
     "execution_count": 3,
     "metadata": {},
     "output_type": "execute_result"
    }
   ],
   "source": [
    "##Create a toy sized cfradial file that we know the exact values of calculations for \n",
    "ds_path = joinpath(scratchspace, \"toy_set.nc\")\n",
    "isfile(ds_path) && rm(ds_path)\n",
    "ds = NCDataset(ds_path, \"c\")\n",
    "# import Base.size\n",
    "# import Base.length \n",
    "# function size(v::Matrix{Union{Missing, Float32}}, dim::Int64)\n",
    "    \n",
    "#     return 5\n",
    "# end \n",
    "\n",
    "# function length(v::Nothing)\n",
    "#     return 5\n",
    "# end \n",
    "####start with 5x5 \n",
    "range_dim = 5\n",
    "time_dim  = 5\n",
    "\n",
    "times = collect(1:1:5)\n",
    "ranges = collect(1:1:5)\n",
    "\n",
    "sample_DBZ = Matrix{Union{Missing, Float32}}(reshape(sample(1:65, range_dim*time_dim),(range_dim, time_dim)))\n",
    "sample_VEL = Matrix{Float32}(reshape(sample(-20:20, range_dim*time_dim), (range_dim, time_dim)))\n",
    "sample_NCP = fill(1., (range_dim, time_dim))\n",
    "sample_NCP[:,1] .= .1\n",
    "\n",
    "sample_PGG = fill(.1, (range_dim, time_dim))\n",
    "sample_PGG[1,:] .= 1\n",
    "\n",
    "sample_VG = Matrix{Union{Missing, Float32}}(sample_VEL)\n",
    "###Collocate with the low values of NCP \n",
    "sample_VG[:,1] .= missing\n",
    "###Add center ro \n",
    "sample_VG[3,:] .= missing \n",
    "\n",
    "defDim(ds, \"range\", range_dim)\n",
    "defDim(ds, \"time\", time_dim)\n",
    "\n",
    "tv = defVar(ds, \"time\", Float32, (\"time\",), attrib=Dict(\"units\" => \"s\"))\n",
    "tv[:] = times\n",
    "\n",
    "rv = defVar(ds, \"range\", Float32, (\"range\",), attrib=Dict(\"units\" => \"m\"))\n",
    "rv[:] = ranges\n",
    "\n",
    "NCP = defVar(ds, \"NCP\", Float32, (\"range\", \"time\"), attrib=Dict(\"units\" => \"NCP units\"))\n",
    "NCP[:,:] = sample_NCP \n",
    "\n",
    "\n",
    "\n",
    "VEL = defVar(ds, \"VEL\", Float32, (\"range\", \"time\"), attrib=Dict(\"units\" => \"m/s\"))\n",
    "VEL[:,:] = sample_VEL\n",
    "\n",
    "defVar(ds, \"DBZ\", sample_DBZ, (\"range\", \"time\"), attrib=Dict(\"units\" => \"log\"))\n",
    "defVar(ds, \"PGG\", sample_PGG, (\"range\", \"time\"), attrib=Dict(\"units\" => \"percent\"))\n",
    "defVar(ds, \"VG\", sample_VG, (\"range\", \"time\"), attrib=Dict(\"units\" => \"m/s\"))\n",
    "\n",
    "close(ds)"
   ]
  },
  {
   "cell_type": "code",
   "execution_count": 4,
   "metadata": {},
   "outputs": [
    {
     "data": {
      "text/plain": [
       "2-element Vector{String}:\n",
       " \"PASS_1_MASK\"\n",
       " \"PASS_2_MASK\""
      ]
     },
     "execution_count": 4,
     "metadata": {},
     "output_type": "execute_result"
    }
   ],
   "source": [
    "task_path = \"./tasks.txt\"\n",
    "\n",
    "\n",
    "task_paths = [task_path, task_path] \n",
    "input_path = ds_path\n",
    "num_models = 2\n",
    "initial_met_prob = (.1, .9) \n",
    "final_met_prob = (.1,.9)\n",
    "\n",
    "###Combine into vector for model configuration object \n",
    "###It's important to note that len(met_probs) is enforced to be equal to num_models \n",
    "met_probs = [initial_met_prob, final_met_prob]\n",
    "\n",
    "###The following are default windows specified in RoninConstants.jl \n",
    "###Standard 7x7 window \n",
    "sw = Ronin.standard_window \n",
    "###7x7 window with only nonzero weights in azimuth dimension \n",
    "aw = Ronin.azi_window\n",
    "###7x7 window with only nonzero weights in range dimension \n",
    "rw = Ronin.range_window \n",
    "###Placeholder window for tasks that do not require spatial context \n",
    "pw = Ronin.placeholder_window \n",
    "\n",
    "###Specify a weight matrix for each individual task in the configuration file \n",
    "weight_vec = [pw, rw]\n",
    "###Specify a weight vector for each model pass \n",
    "###len(weight_vector) is enforced to be equal to num_models (should have a set of weights for each pass) \n",
    "task_weights = [weight_vec, weight_vec] \n",
    "\n",
    "base_name = \"raw_model\"\n",
    "base_name_features = \"output_features\" \n",
    "###List of paths to output trained models to. Enforced to be same size as num_models \n",
    "model_output_paths = [base_name * \"_$(i-1).jld2\" for i in 1:num_models ]\n",
    "###List of paths to output calculated features to. Enforced to be same size as num_models \n",
    "feature_output_paths = [base_name_features * \"_$(i-1).h5\" for i in 1:num_models]\n",
    "\n",
    "\n",
    "###Options are \"balanced\" or \"\". If \"balanced\", the decision trees will be trained \n",
    "###on a weighted version of the existing classes in order to combat class imbalance \n",
    "class_weights = \"balanced\"\n",
    "\n",
    "###Name of variable in cfradials that has already had interactive QC applied \n",
    "QC_var = \"VG\"\n",
    "\n",
    "###Name of a variable in cfradials that will be used to mask what gates are predicted upon.\n",
    "###Missing values in this variable mean that gates will be removed\n",
    "remove_var = \"VV\"\n",
    "###Name of a variable in input cfradials that has not had postprocessing applied. \n",
    "###This variable is used to determine where MISSING gates exist in the scan \n",
    "remove_var = \"VEL\"\n",
    "\n",
    "###Whether or not the input features for the model have already been calculated \n",
    "file_preprocessed = [false, false]\n",
    "\n",
    "###Where to write out the masks to in cfradial file. \n",
    "mask_names = [\"PASS_1_MASK\", \"PASS_2_MASK\"]\n",
    "\n",
    "\n"
   ]
  },
  {
   "cell_type": "code",
   "execution_count": 5,
   "metadata": {},
   "outputs": [
    {
     "data": {
      "text/plain": [
       "ModelConfig(2, [\"raw_model_0.jld2\", \"raw_model_1.jld2\"], Tuple{Float32, Float32}[(0.1, 0.9), (0.1, 0.9)], [\"output_features_0.h5\", \"output_features_1.h5\"], \"/Users/ischluesche/.julia/scratchspaces/905eca60-9fa9-4fb3-8835-f5cd63a3719c/ronin_testing/toy_set.nc\", \"nan\", Bool[0, 0], [\"./tasks.txt\", \"./tasks.txt\"], [\"\"], Vector[Matrix{Union{Missing, Float32}}[[1.0 1.0 1.0; 1.0 1.0 1.0; 1.0 1.0 1.0], [0.0 0.0 … 0.0 0.0; 0.0 0.0 … 0.0 0.0; … ; 0.0 0.0 … 0.0 0.0; 0.0 0.0 … 0.0 0.0]], Matrix{Union{Missing, Float32}}[[1.0 1.0 1.0; 1.0 1.0 1.0; 1.0 1.0 1.0], [0.0 0.0 … 0.0 0.0; 0.0 0.0 … 0.0 0.0; … ; 0.0 0.0 … 0.0 0.0; 0.0 0.0 … 0.0 0.0]]], true, false, false, true, \"VG\", \"VEL\", -32000.0f0, false, true, false, [\"PASS_1_MASK\", \"PASS_2_MASK\"], [\"VEL\"], \"_QC\", \"balanced\", 21, 14, false, 0.2f0, 1.0f0)"
      ]
     },
     "execution_count": 5,
     "metadata": {},
     "output_type": "execute_result"
    }
   ],
   "source": [
    "###Create model config object\n",
    "config = ModelConfig(num_models = num_models,model_output_paths =  model_output_paths,met_probs =  met_probs, \n",
    "                    feature_output_paths = feature_output_paths, input_path = input_path,task_mode=\"nan\",file_preprocessed = [false, false],\n",
    "                     task_paths = task_paths, QC_var = QC_var, remove_var = remove_var, QC_mask = false, mask_names = mask_names,\n",
    "                     VARS_TO_QC = [\"VEL\"], class_weights = class_weights, HAS_INTERACTIVE_QC=true, task_weights = task_weights,\n",
    "                     REMOVE_HIGH_PGG=false, REMOVE_LOW_NCP=false)"
   ]
  },
  {
   "cell_type": "code",
   "execution_count": 6,
   "metadata": {},
   "outputs": [
    {
     "name": "stdout",
     "output_type": "stream",
     "text": [
      "\n",
      "\u001b[32mCALCULATING FEATURES FOR PASS: 1\u001b[39m\n",
      "Processed /Users/ischluesche/.julia/scratchspaces/905eca60-9fa9-4fb3-8835-f5cd63a3719c/ronin_testing/toy_set.nc in 1.2414519786834717 seconds\n",
      "COMPLETED PROCESSING 1 FILES IN 1.37 SECONDS\n",
      "OUTPUTTING DATA IN HDF5 FORMAT TO FILE: output_features_0.h5\n",
      "\n",
      "WRITING DATA TO FILE OF SHAPE (20, 2)\n",
      "X TYPE: Matrix{Float32}\n",
      "\u001b[32mFINISHED CALCULATING FEATURES FOR PASS 1 in 2.41 seconds...\u001b[39m\n",
      "\n",
      "\u001b[32mTRAINING MODEL FOR PASS: 1\u001b[39m\n",
      "\n",
      "\u001b[32m...TRAINING FOR PASS: 1 ON 20 GATES...\u001b[39m\n",
      "\n",
      "\u001b[34mOpening HDF5.File: (read-only) output_features_0.h5...\u001b[39m\n",
      "FITTING MODEL\n",
      "COMPLETED FITTING MODEL IN 0.7498788833618164 seconds\n",
      "\n",
      "MODEL VERIFICATION:\n",
      "ACCURACY ON TRAINING SET: 95.0%\n",
      "\n",
      "\u001b[32mSAVING MODEL TO: raw_model_0.jld2 \u001b[39m\n",
      "Processed /Users/ischluesche/.julia/scratchspaces/905eca60-9fa9-4fb3-8835-f5cd63a3719c/ronin_testing/toy_set.nc in 0.0012240409851074219 seconds\n",
      "COMPLETED PROCESSING 1 FILES IN 0.0 SECONDS\n",
      "RESULTANT GATES: 16\u001b[31mDataset: /Users/ischluesche/.julia/scratchspaces/905eca60-9fa9-4fb3-8835-f5cd63a3719c/ronin_testing/toy_set.nc\u001b[39m\n",
      "Group: /\n",
      "\n",
      "\u001b[31mDimensions\u001b[39m\n",
      "   range = 5\n",
      "   time = 5\n",
      "\n",
      "\u001b[31mVariables\u001b[39m\n",
      "\u001b[32m  time\u001b[39m   (5)\n",
      "    Datatype:    \u001b[0m\u001b[1mFloat32\u001b[22m (Float32)\n",
      "    Dimensions:  time\n",
      "    Attributes:\n",
      "     units                = \u001b[36ms\u001b[39m\n",
      "\n",
      "\u001b[32m  range\u001b[39m   (5)\n",
      "    Datatype:    \u001b[0m\u001b[1mFloat32\u001b[22m (Float32)\n",
      "    Dimensions:  range\n",
      "    Attributes:\n",
      "     units                = \u001b[36mm\u001b[39m\n",
      "\n",
      "\u001b[32m  NCP\u001b[39m   (5 × 5)\n",
      "    Datatype:    \u001b[0m\u001b[1mFloat32\u001b[22m (Float32)\n",
      "    Dimensions:  range × time\n",
      "    Attributes:\n",
      "     units                = \u001b[36mNCP units\u001b[39m\n",
      "\n",
      "\u001b[32m  VEL\u001b[39m   (5 × 5)\n",
      "    Datatype:    \u001b[0m\u001b[1mFloat32\u001b[22m (Float32)\n",
      "    Dimensions:  range × time\n",
      "    Attributes:\n",
      "     units                = \u001b[36mm/s\u001b[39m\n",
      "\n",
      "\u001b[32m  DBZ\u001b[39m   (5 × 5)\n",
      "    Datatype:    \u001b[0m\u001b[1mUnion{Missing, Float32}\u001b[22m (Float32)\n",
      "    Dimensions:  range × time\n",
      "    Attributes:\n",
      "     units                = \u001b[36mlog\u001b[39m\n",
      "     _FillValue           = \u001b[36m9.96921e36\u001b[39m\n",
      "\n",
      "\u001b[32m  PGG\u001b[39m   (5 × 5)\n",
      "    Datatype:    \u001b[0m\u001b[1mFloat64\u001b[22m (Float64)\n",
      "    Dimensions:  range × time\n",
      "    Attributes:\n",
      "     units                = \u001b[36mpercent\u001b[39m\n",
      "\n",
      "\u001b[32m  VG\u001b[39m   (5 × 5)\n",
      "    Datatype:    \u001b[0m\u001b[1mUnion{Missing, Float32}\u001b[22m (Float32)\n",
      "    Dimensions:  range × time\n",
      "    Attributes:\n",
      "     units                = \u001b[36mm/s\u001b[39m\n",
      "     _FillValue           = \u001b[36m9.96921e36\u001b[39m\n",
      "\n",
      "\n",
      "\u001b[32mCALCULATING FEATURES FOR PASS: 2\u001b[39m\n",
      "Processed /Users/ischluesche/.julia/scratchspaces/905eca60-9fa9-4fb3-8835-f5cd63a3719c/ronin_testing/toy_set.nc in 0.3797149658203125 seconds\n",
      "COMPLETED PROCESSING 1 FILES IN 0.39 SECONDS\n",
      "OUTPUTTING DATA IN HDF5 FORMAT TO FILE: output_features_1.h5\n",
      "\n",
      "WRITING DATA TO FILE OF SHAPE (16, 2)\n",
      "X TYPE: Matrix{Float32}\n",
      "\u001b[32mFINISHED CALCULATING FEATURES FOR PASS 2 in 0.389 seconds...\u001b[39m\n",
      "\n",
      "\u001b[32mTRAINING MODEL FOR PASS: 2\u001b[39m\n",
      "\n",
      "\u001b[32m...TRAINING FOR PASS: 2 ON 16 GATES...\u001b[39m\n",
      "\n",
      "\u001b[34mOpening HDF5.File: (read-only) output_features_1.h5...\u001b[39m\n",
      "FITTING MODEL\n",
      "COMPLETED FITTING MODEL IN 0.00013899803161621094 seconds\n",
      "\n",
      "MODEL VERIFICATION:\n",
      "ACCURACY ON TRAINING SET: 93.8%\n",
      "\n",
      "\u001b[32mSAVING MODEL TO: raw_model_1.jld2 \u001b[39m\n",
      "\n",
      "\u001b[32m COMPLETED TRAINING MODEL IN 8.034 seconds...\u001b[39m\n",
      "\n",
      "\u001b[32mCALCULATING FEATURES FOR PASS: 1\u001b[39m\n",
      "Processed /Users/ischluesche/.julia/scratchspaces/905eca60-9fa9-4fb3-8835-f5cd63a3719c/ronin_testing/toy_set.nc in 0.0026340484619140625 seconds\n",
      "COMPLETED PROCESSING 1 FILES IN 0.0 SECONDS\n",
      "OUTPUTTING DATA IN HDF5 FORMAT TO FILE: output_features_0.h5\n",
      "\n",
      "WRITING DATA TO FILE OF SHAPE (25, 2)\n",
      "X TYPE: Matrix{Float32}\n",
      "\u001b[32mFINISHED CALCULATING FEATURES FOR PASS 1 in 0.008 seconds...\u001b[39m\n",
      "\n",
      "\u001b[32mTRAINING MODEL FOR PASS: 1\u001b[39m\n",
      "\n",
      "\u001b[32m...TRAINING FOR PASS: 1 ON 25 GATES...\u001b[39m\n",
      "\n",
      "\u001b[34mOpening HDF5.File: (read-only) output_features_0.h5...\u001b[39m\n",
      "FITTING MODEL\n",
      "COMPLETED FITTING MODEL IN 0.0001289844512939453 seconds\n",
      "\n",
      "MODEL VERIFICATION:\n",
      "ACCURACY ON TRAINING SET: 100.0%\n",
      "\n",
      "\u001b[32mSAVING MODEL TO: raw_model_0.jld2 \u001b[39m\n",
      "Processed /Users/ischluesche/.julia/scratchspaces/905eca60-9fa9-4fb3-8835-f5cd63a3719c/ronin_testing/toy_set.nc in 0.0011050701141357422 seconds\n",
      "COMPLETED PROCESSING 1 FILES IN 0.0 SECONDS\n",
      "RESULTANT GATES: 13\u001b[31mDataset: /Users/ischluesche/.julia/scratchspaces/905eca60-9fa9-4fb3-8835-f5cd63a3719c/ronin_testing/toy_set.nc\u001b[39m\n",
      "Group: /\n",
      "\n",
      "\u001b[31mDimensions\u001b[39m\n",
      "   range = 5\n",
      "   time = 5\n",
      "\n",
      "\u001b[31mVariables\u001b[39m\n",
      "\u001b[32m  time\u001b[39m   (5)\n",
      "    Datatype:    \u001b[0m\u001b[1mFloat32\u001b[22m (Float32)\n",
      "    Dimensions:  time\n",
      "    Attributes:\n",
      "     units                = \u001b[36ms\u001b[39m\n",
      "\n",
      "\u001b[32m  range\u001b[39m   (5)\n",
      "    Datatype:    \u001b[0m\u001b[1mFloat32\u001b[22m (Float32)\n",
      "    Dimensions:  range\n",
      "    Attributes:\n",
      "     units                = \u001b[36mm\u001b[39m\n",
      "\n",
      "\u001b[32m  NCP\u001b[39m   (5 × 5)\n",
      "    Datatype:    \u001b[0m\u001b[1mFloat32\u001b[22m (Float32)\n",
      "    Dimensions:  range × time\n",
      "    Attributes:\n",
      "     units                = \u001b[36mNCP units\u001b[39m\n",
      "\n",
      "\u001b[32m  VEL\u001b[39m   (5 × 5)\n",
      "    Datatype:    \u001b[0m\u001b[1mFloat32\u001b[22m (Float32)\n",
      "    Dimensions:  range × time\n",
      "    Attributes:\n",
      "     units                = \u001b[36mm/s\u001b[39m\n",
      "\n",
      "\u001b[32m  DBZ\u001b[39m   (5 × 5)\n",
      "    Datatype:    \u001b[0m\u001b[1mUnion{Missing, Float32}\u001b[22m (Float32)\n",
      "    Dimensions:  range × time\n",
      "    Attributes:\n",
      "     units                = \u001b[36mlog\u001b[39m\n",
      "     _FillValue           = \u001b[36m9.96921e36\u001b[39m\n",
      "\n",
      "\u001b[32m  PGG\u001b[39m   (5 × 5)\n",
      "    Datatype:    \u001b[0m\u001b[1mFloat64\u001b[22m (Float64)\n",
      "    Dimensions:  range × time\n",
      "    Attributes:\n",
      "     units                = \u001b[36mpercent\u001b[39m\n",
      "\n",
      "\u001b[32m  VG\u001b[39m   (5 × 5)\n",
      "    Datatype:    \u001b[0m\u001b[1mUnion{Missing, Float32}\u001b[22m (Float32)\n",
      "    Dimensions:  range × time\n",
      "    Attributes:\n",
      "     units                = \u001b[36mm/s\u001b[39m\n",
      "     _FillValue           = \u001b[36m9.96921e36\u001b[39m\n",
      "\n",
      "\u001b[32m  PASS_2_MASK\u001b[39m   (5 × 5)\n",
      "    Datatype:    \u001b[0m\u001b[1mUnion{Missing, Float32}\u001b[22m (Float32)\n",
      "    Dimensions:  range × time\n",
      "    Attributes:\n",
      "     Units                = \u001b[36mBool\u001b[39m\n",
      "     _FillValue           = \u001b[36m-32000.0\u001b[39m\n",
      "     Description          = \u001b[36mGates between met prob theresholds\u001b[39m\n",
      "\n",
      "NCDatasets.NetCDFError(-42, \"NetCDF: String match to name in use\")INPUT_SET NCDataset{Nothing, Missing}, VAR: StringAlready exists... overwriting\n",
      "\n",
      "\u001b[32mCALCULATING FEATURES FOR PASS: 2\u001b[39m\n",
      "Processed /Users/ischluesche/.julia/scratchspaces/905eca60-9fa9-4fb3-8835-f5cd63a3719c/ronin_testing/toy_set.nc in 0.0008311271667480469 seconds\n",
      "COMPLETED PROCESSING 1 FILES IN 0.0 SECONDS\n",
      "OUTPUTTING DATA IN HDF5 FORMAT TO FILE: output_features_1.h5\n",
      "\n",
      "WRITING DATA TO FILE OF SHAPE (13, 2)\n",
      "X TYPE: Matrix{Float32}\n",
      "\u001b[32mFINISHED CALCULATING FEATURES FOR PASS 2 in 0.004 seconds...\u001b[39m\n",
      "\n",
      "\u001b[32mTRAINING MODEL FOR PASS: 2\u001b[39m\n",
      "\n",
      "\u001b[32m...TRAINING FOR PASS: 2 ON 13 GATES...\u001b[39m\n",
      "\n",
      "\u001b[34mOpening HDF5.File: (read-only) output_features_1.h5...\u001b[39m\n",
      "FITTING MODEL\n",
      "COMPLETED FITTING MODEL IN 0.00015997886657714844 seconds\n",
      "\n",
      "MODEL VERIFICATION:\n",
      "ACCURACY ON TRAINING SET: 92.3%\n",
      "\n",
      "\u001b[32mSAVING MODEL TO: raw_model_1.jld2 \u001b[39m\n",
      "\n",
      "\u001b[32m COMPLETED TRAINING MODEL IN 0.575 seconds...\u001b[39m\n"
     ]
    }
   ],
   "source": [
    "config.REMOVE_HIGH_PGG = false  \n",
    "config.REMOVE_LOW_NCP = false  \n",
    "\n",
    "valid_NCP_gates = sum(sample_NCP .> config.NCP_THRESHOLD)\n",
    "total_gates = length(sample_DBZ)\n",
    "\n",
    "config.REMOVE_LOW_NCP = true \n",
    "\n",
    "try \n",
    "    train_multi_model(config)\n",
    "catch \n",
    "\n",
    "end \n",
    "\n",
    "NCDataset(config.feature_output_paths[1]) do f\n",
    "    @assert size(f[\"X\"][:,:])[1] == valid_NCP_gates\n",
    "end \n",
    "\n",
    "config.REMOVE_LOW_NCP = false \n",
    "try \n",
    "    train_multi_model(config)\n",
    "catch \n",
    "\n",
    "end \n",
    "\n",
    "NCDataset(config.feature_output_paths[1]) do f\n",
    "    @assert size(f[\"X\"][:,:])[1] == total_gates\n",
    "end \n",
    "\n",
    "# valid_PGG_gates = sum(sample_PGG .< config.PGG_THRESHOLD)\n",
    "\n",
    "# config.REMOVE_HIGH_PGG = true \n",
    "\n",
    "# try \n",
    "#     train_multi_model(config)\n",
    "# catch \n",
    "\n",
    "# end \n",
    "\n",
    "# NCDataset(config.feature_output_paths[1]) do f\n",
    "#     print(size(f[\"X\"][:,:]))\n",
    "#     @assert size(f[\"X\"][:,:])[1] == valid_PGG_gates\n",
    "# end \n",
    "\n",
    "\n",
    "\n"
   ]
  },
  {
   "cell_type": "code",
   "execution_count": 7,
   "metadata": {},
   "outputs": [],
   "source": [
    "# QC_scan(config)\n",
    "\n",
    "# currs = NCDataset(ds_path)\n",
    "# #currs[\"VEL_QC\"].attrib[\"_FillValue\"] == config.FILL_VAL\n",
    "# #currs[\"PASS_2_MASK\"].attrib[\"_FillValue\"] == config.FILL_VAL \n",
    "# close(currs)\n",
    "\n",
    "# config.FILL_VAL = 123.456 \n",
    "# QC_scan(config)\n",
    "\n",
    "# currs = NCDataset(ds_path)\n",
    "# @assert currs[\"VEL_QC\"].attrib[\"_FillValue\"] == config.FILL_VAL\n",
    "# #@assert currs[\"PASS_2_MASK\"].attrib[\"_FillValue\"] == config.FILL_VAL \n",
    "# close(currs)"
   ]
  },
  {
   "cell_type": "code",
   "execution_count": 8,
   "metadata": {},
   "outputs": [
    {
     "name": "stdout",
     "output_type": "stream",
     "text": [
      "Processed /Users/ischluesche/.julia/scratchspaces/905eca60-9fa9-4fb3-8835-f5cd63a3719c/ronin_testing/toy_set.nc in 0.005953073501586914 seconds\n",
      "COMPLETED PROCESSING 1 FILES IN 0.01 SECONDS\n",
      "OUTPUTTING DATA IN HDF5 FORMAT TO FILE: output_features_0.h5\n",
      "\n",
      "WRITING DATA TO FILE OF SHAPE (25, 2)\n",
      "X TYPE: Matrix{Float32}\n",
      "Processed /Users/ischluesche/.julia/scratchspaces/905eca60-9fa9-4fb3-8835-f5cd63a3719c/ronin_testing/toy_set.nc in 0.016927003860473633 seconds\n",
      "COMPLETED PROCESSING 1 FILES IN 0.02 SECONDS\n",
      "OUTPUTTING DATA IN HDF5 FORMAT TO FILE: output_features_0.h5\n",
      "\n",
      "WRITING DATA TO FILE OF SHAPE (25, 2)\n",
      "X TYPE: Matrix{Float32}\n"
     ]
    }
   ],
   "source": [
    "###Test to ensure that QC_var is properly passed to the functions \n",
    "\n",
    "VG_map = map(! ismissing, sample_VG)\n",
    "DBZ_map = map( ! ismissing, sample_DBZ)\n",
    "@assert DBZ_map != VG_map \n",
    "config.QC_var = \"VG\"\n",
    "X,Y = calculate_features(config.input_path, config.task_paths[1], config.feature_output_paths[1], config.HAS_INTERACTIVE_QC; \n",
    "                                    verbose = config.verbose, REMOVE_LOW_NCP = config.REMOVE_LOW_NCP,NCP_THRESHOLD=config.NCP_THRESHOLD, \n",
    "                                    REMOVE_HIGH_PGG=config.REMOVE_HIGH_PGG, PGG_THRESHOLD = config.PGG_THRESHOLD, QC_variable = config.QC_var, \n",
    "                                    remove_variable = config.remove_var, replace_missing = config.replace_missing,\n",
    "                                    write_out = config.write_out)\n",
    "\n",
    "@assert reshape(Y, (range_dim, time_dim)) == VG_map     \n",
    "\n",
    "config.QC_var = \"DBZ\"\n",
    "X,Y = calculate_features(config.input_path, config.task_paths[1], config.feature_output_paths[1], config.HAS_INTERACTIVE_QC; \n",
    "                                    verbose = config.verbose, REMOVE_LOW_NCP = config.REMOVE_LOW_NCP,NCP_THRESHOLD=config.NCP_THRESHOLD, \n",
    "                                    REMOVE_HIGH_PGG=config.REMOVE_HIGH_PGG, PGG_THRESHOLD = config.PGG_THRESHOLD, QC_variable = config.QC_var, \n",
    "                                    remove_variable = config.remove_var, replace_missing = config.replace_missing,\n",
    "                                    write_out = config.write_out)\n",
    "\n",
    "@assert reshape(Y, (range_dim, time_dim)) == DBZ_map"
   ]
  },
  {
   "cell_type": "code",
   "execution_count": 9,
   "metadata": {},
   "outputs": [
    {
     "name": "stdout",
     "output_type": "stream",
     "text": [
      "Processed /Users/ischluesche/.julia/scratchspaces/905eca60-9fa9-4fb3-8835-f5cd63a3719c/ronin_testing/toy_set.nc in 0.1264960765838623 seconds\n",
      "COMPLETED PROCESSING 1 FILES IN 0.13 SECONDS\n",
      "OUTPUTTING DATA IN HDF5 FORMAT TO FILE: output_features_0.h5\n",
      "\n",
      "WRITING DATA TO FILE OF SHAPE (16, 2)\n",
      "X TYPE: Matrix{Float32}\n",
      "Processed /Users/ischluesche/.julia/scratchspaces/905eca60-9fa9-4fb3-8835-f5cd63a3719c/ronin_testing/toy_set.nc in 0.001065969467163086 seconds\n",
      "COMPLETED PROCESSING 1 FILES IN 0.0 SECONDS\n",
      "OUTPUTTING DATA IN HDF5 FORMAT TO FILE: output_features_0.h5\n",
      "\n",
      "WRITING DATA TO FILE OF SHAPE (25, 2)\n",
      "X TYPE: Matrix{Float32}\n"
     ]
    }
   ],
   "source": [
    "### Test to ensure remove_var is proper \n",
    "config.remove_var = \"VG\"\n",
    "X,Y = calculate_features(config.input_path, config.task_paths[1], config.feature_output_paths[1], config.HAS_INTERACTIVE_QC; \n",
    "                                    verbose = config.verbose, REMOVE_LOW_NCP = config.REMOVE_LOW_NCP,NCP_THRESHOLD=config.NCP_THRESHOLD, \n",
    "                                    REMOVE_HIGH_PGG=config.REMOVE_HIGH_PGG, PGG_THRESHOLD = config.PGG_THRESHOLD, QC_variable = config.QC_var, \n",
    "                                    remove_variable = config.remove_var, replace_missing = config.replace_missing,\n",
    "                                    write_out = config.write_out)\n",
    "@assert size(X)[1] == sum(VG_map)\n",
    "\n",
    "config.remove_var = \"DBZ\"\n",
    "X,Y = calculate_features(config.input_path, config.task_paths[1], config.feature_output_paths[1], config.HAS_INTERACTIVE_QC; \n",
    "                                    verbose = config.verbose, REMOVE_LOW_NCP = config.REMOVE_LOW_NCP,NCP_THRESHOLD=config.NCP_THRESHOLD, \n",
    "                                    REMOVE_HIGH_PGG=config.REMOVE_HIGH_PGG, PGG_THRESHOLD = config.PGG_THRESHOLD, QC_variable = config.QC_var, \n",
    "                                    remove_variable = config.remove_var, replace_missing = config.replace_missing,\n",
    "                                    write_out = config.write_out)\n",
    "\n",
    "@assert size(X)[1] == sum(DBZ_map)"
   ]
  },
  {
   "cell_type": "code",
   "execution_count": 10,
   "metadata": {},
   "outputs": [
    {
     "data": {
      "text/plain": [
       "train_multi_model_bench (generic function with 1 method)"
      ]
     },
     "execution_count": 10,
     "metadata": {},
     "output_type": "execute_result"
    }
   ],
   "source": [
    "function train_multi_model_bench(config::ModelConfig)\n",
    "    ##Quick input sanitation check \n",
    "    @assert (length(config.model_output_paths) == length(config.feature_output_paths)\n",
    "             == length(config.met_probs) == length(config.task_paths) == length(config.task_weights))\n",
    "\n",
    "    full_start_time = time() \n",
    "    ###Iteratively train models and apply QC_scan with the specified probabilites to train a multi-pass model \n",
    "    ###pipeline \n",
    "    for (i, model_path) in enumerate(config.model_output_paths)\n",
    "        \n",
    "        out = config.feature_output_paths[i] \n",
    "        currt = config.task_paths[i]\n",
    "        cw = config.task_weights[i]\n",
    "\n",
    "        ##If execution proceeds past the first iteration, a composite model is being created, and \n",
    "        ##so a further mask will be applied to the features \n",
    "        if i > 1\n",
    "            QC_mask = true \n",
    "        else \n",
    "            QC_mask = config.QC_mask \n",
    "        end \n",
    "\n",
    "        QC_mask ? mask_name = config.mask_names[i] : mask_name = \"\"\n",
    "        println(\"MASK NAME: $(mask_name)\")\n",
    "        starttime = time() \n",
    "        \n",
    "        if config.file_preprocessed[i]\n",
    "\n",
    "            print(\"Reading input features from file $(out)...\\n\")\n",
    "            h5open(out) do f\n",
    "                X = f[\"X\"][:,:]\n",
    "                Y = f[\"Y\"][:,:]\n",
    "            end \n",
    "\n",
    "        else\n",
    "            printstyled(\"\\nCALCULATING FEATURES FOR PASS: $(i)\\n\", color=:green)\n",
    "\n",
    "            ###Check to see if the features file already exists, if so, delete it so \n",
    "            ###that it may be overwritten \n",
    "            if config.write_out & config.overwrite_output\n",
    "                isfile(out) ? rm(out) : \"\"\n",
    "            end \n",
    "\n",
    "            X,Y = calculate_features(config.input_path, currt, out, config.HAS_INTERACTIVE_QC; \n",
    "                                verbose = config.verbose, REMOVE_LOW_NCP = config.REMOVE_LOW_NCP,NCP_THRESHOLD=config.NCP_THRESHOLD, \n",
    "                                REMOVE_HIGH_PGG=config.REMOVE_HIGH_PGG, PGG_THRESHOLD = config.PGG_THRESHOLD, QC_variable = config.QC_var, \n",
    "                                remove_variable = config.remove_var, replace_missing = config.replace_missing,\n",
    "                                write_out = config.write_out, QC_mask = QC_mask, mask_name = mask_name, weight_matrixes=cw)\n",
    "            printstyled(\"FINISHED CALCULATING FEATURES FOR PASS $(i) in $(round(time() - starttime, digits = 3)) seconds...\\n\", color=:green)\n",
    "        end \n",
    "\n",
    "        printstyled(\"\\nTRAINING MODEL FOR PASS: $(i)\\n\", color=:green)\n",
    "        starttime = time() \n",
    "\n",
    "        class_weights = Vector{Float32}([0.0,1.0])\n",
    "        ##Train model based on these features \n",
    "        if config.class_weights != \"\"\n",
    "\n",
    "            if lowercase(config.class_weights) != \"balanced\"\n",
    "                printstyled(\"ERROR: UNKNOWN CLASS WEIGHT $(config.class_weights)... \\nContinuing with no weighting\\n\", color=:yellow)\n",
    "            else \n",
    "\n",
    "                class_weights = Vector{Float32}(fill(0,length(Y[:,:][:])))\n",
    "                weight_dict = compute_balanced_class_weights(Y[:,:][:])\n",
    "                for class in keys(weight_dict)\n",
    "                    class_weights[Y[:,:][:] .== class] .= weight_dict[class]\n",
    "                end \n",
    "\n",
    "            end \n",
    "        end \n",
    "        \n",
    "        printstyled(\"\\n...TRAINING FOR PASS: $(i) ON $(size(X)[1]) GATES...\\n\", color=:green)\n",
    "    \n",
    "        Ronin.train_model(out, model_path, n_trees = config.n_trees, max_depth = config.max_depth, class_weights = class_weights)\n",
    "\n",
    "        \n",
    "        ###If this was the last pass, we don't need to write out a mask, and we're done!\n",
    "        ###Otherwise, we need to mask out the features we want to apply the model to on the next pass \n",
    "        if i < config.num_models\n",
    "\n",
    "            curr_model = load_object(model_path) \n",
    "            curr_metprobs = config.met_probs[i]\n",
    "\n",
    "            paths = Vector{String}() \n",
    "            file_path = config.input_path\n",
    "\n",
    "            if isdir(file_path) \n",
    "                paths = parse_directory(file_path)\n",
    "            else \n",
    "                paths = [file_path]\n",
    "            end \n",
    "                \n",
    "            for path in paths\n",
    "\n",
    "                dims = Dataset(path) do f\n",
    "                    (f.dim[\"range\"], f.dim[\"time\"])\n",
    "                end \n",
    "                \n",
    "                ###NEED to update this if it's beyond two pass so we can pass it the correct mask\n",
    "                X, Y, idxer = calculate_features(path, currt, out, true; \n",
    "                                    verbose = config.verbose, REMOVE_LOW_NCP = config.REMOVE_LOW_NCP, NCP_THRESHOLD=config.NCP_THRESHOLD,\n",
    "                                    REMOVE_HIGH_PGG=config.REMOVE_HIGH_PGG,PGG_THRESHOLD=config.PGG_THRESHOLD, QC_variable = config.QC_var, \n",
    "                                    remove_variable = config.remove_var, replace_missing = config.replace_missing, return_idxer=true,\n",
    "                                    write_out = false, QC_mask = QC_mask, mask_name = mask_name, weight_matrixes=cw)\n",
    "                \n",
    "                met_probs = DecisionTree.predict_proba(curr_model, X)\n",
    "                if size(met_probs)[2] < 2\n",
    "                    throw(DomainError(1, \"ERROR: ONLY ONE CLASS IN INPUT DATASET\")) \n",
    "                end \n",
    "                met_probs = met_probs[:, 2]\n",
    "                valid_idxs = (met_probs .> minimum(curr_metprobs)) .& (met_probs .<= maximum(curr_metprobs))\n",
    "                print(\"RESULTANT GATES: $(sum(valid_idxs))\")\n",
    "                ##Create mask field, fill it, and then write out\n",
    "                new_mask = Matrix{Union{Missing, Float32}}(missings(dims))[:]\n",
    "               \n",
    "                ##We only care about gates that have met the base QC thresholds, so first index \n",
    "                ##by indexer returned from calculate_features, and then set the gates between\n",
    "                ##the specified probability levels to valid in the mask. The next model pass will \n",
    "                ##thus only be calculated upon these features. \n",
    "                idxer = idxer[1][:]\n",
    "                idxer[idxer] .= Vector{Bool}(valid_idxs)\n",
    "                new_mask[idxer] .= 1.\n",
    "                new_mask = reshape(new_mask, dims)\n",
    "    \n",
    "                write_field(path, config.mask_names[i+1], new_mask, attribs=Dict(\"Units\" => \"Bool\", \"Description\" => \"Gates between met prob theresholds\"))\n",
    "\n",
    "            end \n",
    "        end   \n",
    "    end \n",
    "    printstyled(\"\\n COMPLETED TRAINING MODEL IN $(round(time() - full_start_time, digits = 3)) seconds...\\n\", color=:green)   \n",
    "end \n"
   ]
  },
  {
   "cell_type": "code",
   "execution_count": 11,
   "metadata": {},
   "outputs": [
    {
     "data": {
      "text/plain": [
       "true"
      ]
     },
     "execution_count": 11,
     "metadata": {},
     "output_type": "execute_result"
    }
   ],
   "source": [
    "config.QC_mask = true"
   ]
  },
  {
   "cell_type": "code",
   "execution_count": 12,
   "metadata": {},
   "outputs": [
    {
     "name": "stdout",
     "output_type": "stream",
     "text": [
      "\n",
      "\u001b[32mCALCULATING FEATURES FOR PASS: 1\u001b[39m\n",
      "Processed /Users/ischluesche/.julia/scratchspaces/905eca60-9fa9-4fb3-8835-f5cd63a3719c/ronin_testing/toy_set.nc in 0.0019328594207763672 seconds\n",
      "COMPLETED PROCESSING 1 FILES IN 0.0 SECONDS\n",
      "OUTPUTTING DATA IN HDF5 FORMAT TO FILE: output_features_0.h5\n",
      "\n",
      "WRITING DATA TO FILE OF SHAPE (16, 2)\n",
      "X TYPE: Matrix{Float32}\n",
      "\u001b[32mFINISHED CALCULATING FEATURES FOR PASS 1 in 0.005 seconds...\u001b[39m\n",
      "\n",
      "\u001b[32mTRAINING MODEL FOR PASS: 1\u001b[39m\n",
      "\n",
      "\u001b[32m...TRAINING FOR PASS: 1 ON 16 GATES...\u001b[39m\n",
      "\n",
      "\u001b[34mOpening HDF5.File: (read-only) output_features_0.h5...\u001b[39m\n",
      "FITTING MODEL\n",
      "COMPLETED FITTING MODEL IN 0.00040221214294433594 seconds\n",
      "\n",
      "MODEL VERIFICATION:\n",
      "ACCURACY ON TRAINING SET: 100.0%\n",
      "\n",
      "\u001b[32mSAVING MODEL TO: raw_model_0.jld2 \u001b[39m\n",
      "Processed /Users/ischluesche/.julia/scratchspaces/905eca60-9fa9-4fb3-8835-f5cd63a3719c/ronin_testing/toy_set.nc in 0.0007100105285644531 seconds\n",
      "COMPLETED PROCESSING 1 FILES IN 0.0 SECONDS\n",
      "OK\n",
      "\n",
      "\u001b[32mCALCULATING FEATURES FOR PASS: 1\u001b[39m\n",
      "Processed /Users/ischluesche/.julia/scratchspaces/905eca60-9fa9-4fb3-8835-f5cd63a3719c/ronin_testing/toy_set.nc in 0.0028121471405029297 seconds\n",
      "COMPLETED PROCESSING 1 FILES IN 0.0 SECONDS\n",
      "OUTPUTTING DATA IN HDF5 FORMAT TO FILE: output_features_0.h5\n",
      "\n",
      "WRITING DATA TO FILE OF SHAPE (25, 2)\n",
      "X TYPE: Matrix{Float32}\n",
      "\u001b[32mFINISHED CALCULATING FEATURES FOR PASS 1 in 0.007 seconds...\u001b[39m\n",
      "\n",
      "\u001b[32mTRAINING MODEL FOR PASS: 1\u001b[39m\n",
      "\n",
      "\u001b[32m...TRAINING FOR PASS: 1 ON 25 GATES...\u001b[39m\n",
      "\n",
      "\u001b[34mOpening HDF5.File: (read-only) output_features_0.h5...\u001b[39m\n",
      "FITTING MODEL\n",
      "COMPLETED FITTING MODEL IN 0.0001251697540283203 seconds\n",
      "\n",
      "MODEL VERIFICATION:\n",
      "ACCURACY ON TRAINING SET: 100.0%\n",
      "\n",
      "\u001b[32mSAVING MODEL TO: raw_model_0.jld2 \u001b[39m\n",
      "Processed /Users/ischluesche/.julia/scratchspaces/905eca60-9fa9-4fb3-8835-f5cd63a3719c/ronin_testing/toy_set.nc in 0.0007531642913818359 seconds\n",
      "COMPLETED PROCESSING 1 FILES IN 0.0 SECONDS\n",
      "DOMAIN ERROR\n",
      "25\n"
     ]
    }
   ],
   "source": [
    "###Ensure that we have the full number of gates \n",
    "@assert sum(DBZ_map) == (range_dim * time_dim)\n",
    "###Then try and mask something out... first we need to write it to file though \n",
    "###Can just used the QC'ed stuff \n",
    "\n",
    "config.QC_mask = true \n",
    "config.mask_names = [\"VG\", \"OK\"]\n",
    "\n",
    "try \n",
    "    train_multi_model(config)\n",
    "catch DomainError \n",
    "    println(\"OK\")\n",
    "    NCDataset(config.feature_output_paths[1]) do f1 \n",
    "        @assert size(f1[\"X\"][:,:])[1] == sum(.! map(ismissing, sample_VG)) \n",
    "    end \n",
    "    ###We should get a domain variable because we are removing the non-met \n",
    "    ###gates in the first pass \n",
    "else \n",
    "    @assert false\n",
    "end \n",
    "\n",
    "###Now let's try it without the mask \n",
    "config.QC_mask = false \n",
    "\n",
    "try \n",
    "    train_multi_model(config)\n",
    "catch DomainError \n",
    "    ###possible we're just getting 100% accuracy \n",
    "    println(\"DOMAIN ERROR\") \n",
    "    NCDataset(config.feature_output_paths[1]) do f1 \n",
    "        println(size(f1[\"X\"][:,:])[1] )\n",
    "        @assert size(f1[\"X\"][:,:])[1] == length(sample_DBZ)\n",
    "    end \n",
    "else \n",
    "    @assert true\n",
    "end \n",
    "###Check to ensure that it's the full size \n",
    "\n",
    "\n"
   ]
  },
  {
   "cell_type": "code",
   "execution_count": 13,
   "metadata": {},
   "outputs": [
    {
     "data": {
      "text/plain": [
       "false"
      ]
     },
     "execution_count": 13,
     "metadata": {},
     "output_type": "execute_result"
    }
   ],
   "source": [
    "config.mask_names = [\"OK\"]\n",
    "try\n",
    "    train_multi_model(config)\n",
    "catch AssertionError\n",
    "\n",
    "else \n",
    "    @assert false \n",
    "end \n",
    "\n",
    "try \n",
    "    composite_prediction(config) \n",
    "catch AssertionError \n",
    "else \n",
    "    @assert false \n",
    "end \n",
    "\n",
    "config.mask_names = [\"OK\", \"MASK_2\"]\n",
    "config.QC_mask = false "
   ]
  },
  {
   "cell_type": "code",
   "execution_count": 8,
   "metadata": {},
   "outputs": [
    {
     "ename": "LoadError",
     "evalue": "NetCDF error: \u001b[31mVariable 'VV' not found in file ./toy_set.nc\u001b[39m (NetCDF error code: -49)",
     "output_type": "error",
     "traceback": [
      "NetCDF error: \u001b[31mVariable 'VV' not found in file ./toy_set.nc\u001b[39m (NetCDF error code: -49)",
      "",
      "Stacktrace:",
      " [1] nc_inq_varid(ncid::Int32, name::String)",
      "   @ NCDatasets ~/.julia/packages/NCDatasets/LjXBn/src/netcdf_c.jl:1558",
      " [2] _variable",
      "   @ ~/.julia/packages/NCDatasets/LjXBn/src/variable.jl:72 [inlined]",
      " [3] variable",
      "   @ ~/.julia/packages/NCDatasets/LjXBn/src/variable.jl:83 [inlined]",
      " [4] cfvariable(ds::NCDataset{Nothing, Missing}, varname::String)",
      "   @ CommonDataModel ~/.julia/packages/CommonDataModel/vTYnt/src/cfvariable.jl:86",
      " [5] getindex",
      "   @ ~/.julia/packages/CommonDataModel/vTYnt/src/dataset.jl:170 [inlined]",
      " [6] process_single_file(cfrad::NCDataset{Nothing, Missing}, argfile_path::String; HAS_INTERACTIVE_QC::Bool, REMOVE_LOW_NCP::Bool, NCP_THRESHOLD::Float32, REMOVE_HIGH_PGG::Bool, PGG_THRESHOLD::Float32, QC_variable::String, remove_variable::String, replace_missing::Bool, mask_features::Bool, feature_mask::Matrix{Bool}, weight_matrixes::Vector{Matrix{Union{Missing, Float32}}})",
      "   @ Ronin ~/Documents/Grad_School/Research/Ronin/src/RoninFeatures.jl:542",
      " [7] top-level scope",
      "   @ In[8]:1"
     ]
    }
   ],
   "source": [
    "process_single_file(currs, \"./tasks.txt\"; NCP_THRESHOLD = Float32(.2), PGG_THRESHOLD=Float32(1.))"
   ]
  },
  {
   "cell_type": "code",
   "execution_count": 13,
   "metadata": {},
   "outputs": [
    {
     "name": "stdout",
     "output_type": "stream",
     "text": [
      "\n",
      "\u001b[32mCALCULATING FEATURES FOR PASS: 1\u001b[39m\n",
      "Processed /Users/ischluesche/.julia/scratchspaces/905eca60-9fa9-4fb3-8835-f5cd63a3719c/ronin_testing/toy_set.nc in 0.0018160343170166016 seconds\n",
      "COMPLETED PROCESSING 1 FILES IN 0.01 SECONDS\n",
      "OUTPUTTING DATA IN HDF5 FORMAT TO FILE: output_features_0.h5\n",
      "\n",
      "WRITING DATA TO FILE OF SHAPE (25, 2)\n",
      "X TYPE: Matrix{Float32}\n",
      "\u001b[32mFINISHED CALCULATING FEATURES FOR PASS 1 in 0.012 seconds...\u001b[39m\n",
      "\n",
      "\u001b[32mTRAINING MODEL FOR PASS: 1\u001b[39m\n",
      "\n",
      "\u001b[32m...TRAINING FOR PASS: 1 ON 25 GATES...\u001b[39m\n",
      "\n",
      "\u001b[34mOpening HDF5.File: (read-only) output_features_0.h5...\u001b[39m\n",
      "FITTING MODEL\n",
      "COMPLETED FITTING MODEL IN 0.0003218650817871094 seconds\n",
      "\n",
      "MODEL VERIFICATION:\n",
      "ACCURACY ON TRAINING SET: 96.0%\n",
      "\n",
      "\u001b[32mSAVING MODEL TO: raw_model_0.jld2 \u001b[39m\n",
      "Processed /Users/ischluesche/.julia/scratchspaces/905eca60-9fa9-4fb3-8835-f5cd63a3719c/ronin_testing/toy_set.nc in 0.0008401870727539062 seconds\n",
      "COMPLETED PROCESSING 1 FILES IN 0.0 SECONDS\n",
      "RESULTANT GATES: 22\u001b[31mDataset: /Users/ischluesche/.julia/scratchspaces/905eca60-9fa9-4fb3-8835-f5cd63a3719c/ronin_testing/toy_set.nc\u001b[39m\n",
      "Group: /\n",
      "\n",
      "\u001b[31mDimensions\u001b[39m\n",
      "   range = 5\n",
      "   time = 5\n",
      "\n",
      "\u001b[31mVariables\u001b[39m\n",
      "\u001b[32m  time\u001b[39m   (5)\n",
      "    Datatype:    \u001b[0m\u001b[1mFloat32\u001b[22m (Float32)\n",
      "    Dimensions:  time\n",
      "    Attributes:\n",
      "     units                = \u001b[36ms\u001b[39m\n",
      "\n",
      "\u001b[32m  range\u001b[39m   (5)\n",
      "    Datatype:    \u001b[0m\u001b[1mFloat32\u001b[22m (Float32)\n",
      "    Dimensions:  range\n",
      "    Attributes:\n",
      "     units                = \u001b[36mm\u001b[39m\n",
      "\n",
      "\u001b[32m  NCP\u001b[39m   (5 × 5)\n",
      "    Datatype:    \u001b[0m\u001b[1mFloat32\u001b[22m (Float32)\n",
      "    Dimensions:  range × time\n",
      "    Attributes:\n",
      "     units                = \u001b[36mNCP units\u001b[39m\n",
      "\n",
      "\u001b[32m  VEL\u001b[39m   (5 × 5)\n",
      "    Datatype:    \u001b[0m\u001b[1mFloat32\u001b[22m (Float32)\n",
      "    Dimensions:  range × time\n",
      "    Attributes:\n",
      "     units                = \u001b[36mm/s\u001b[39m\n",
      "\n",
      "\u001b[32m  DBZ\u001b[39m   (5 × 5)\n",
      "    Datatype:    \u001b[0m\u001b[1mUnion{Missing, Float32}\u001b[22m (Float32)\n",
      "    Dimensions:  range × time\n",
      "    Attributes:\n",
      "     units                = \u001b[36mlog\u001b[39m\n",
      "     _FillValue           = \u001b[36m9.96921e36\u001b[39m\n",
      "\n",
      "\u001b[32m  PGG\u001b[39m   (5 × 5)\n",
      "    Datatype:    \u001b[0m\u001b[1mFloat64\u001b[22m (Float64)\n",
      "    Dimensions:  range × time\n",
      "    Attributes:\n",
      "     units                = \u001b[36mpercent\u001b[39m\n",
      "\n",
      "\u001b[32m  VG\u001b[39m   (5 × 5)\n",
      "    Datatype:    \u001b[0m\u001b[1mUnion{Missing, Float32}\u001b[22m (Float32)\n",
      "    Dimensions:  range × time\n",
      "    Attributes:\n",
      "     units                = \u001b[36mm/s\u001b[39m\n",
      "     _FillValue           = \u001b[36m9.96921e36\u001b[39m\n",
      "\n",
      "\u001b[32m  PASS_2_MASK\u001b[39m   (5 × 5)\n",
      "    Datatype:    \u001b[0m\u001b[1mUnion{Missing, Float32}\u001b[22m (Float32)\n",
      "    Dimensions:  range × time\n",
      "    Attributes:\n",
      "     Units                = \u001b[36mBool\u001b[39m\n",
      "     _FillValue           = \u001b[36m-32000.0\u001b[39m\n",
      "     Description          = \u001b[36mGates between met prob theresholds\u001b[39m\n",
      "\n",
      "\n",
      "\u001b[32mCALCULATING FEATURES FOR PASS: 2\u001b[39m\n",
      "Processed /Users/ischluesche/.julia/scratchspaces/905eca60-9fa9-4fb3-8835-f5cd63a3719c/ronin_testing/toy_set.nc in 0.0008649826049804688 seconds\n",
      "COMPLETED PROCESSING 1 FILES IN 0.0 SECONDS\n",
      "OUTPUTTING DATA IN HDF5 FORMAT TO FILE: output_features_1.h5\n",
      "\n",
      "WRITING DATA TO FILE OF SHAPE (22, 2)\n",
      "X TYPE: Matrix{Float32}\n",
      "\u001b[32mFINISHED CALCULATING FEATURES FOR PASS 2 in 0.003 seconds...\u001b[39m\n",
      "\n",
      "\u001b[32mTRAINING MODEL FOR PASS: 2\u001b[39m\n",
      "\n",
      "\u001b[32m...TRAINING FOR PASS: 2 ON 22 GATES...\u001b[39m\n",
      "\n",
      "\u001b[34mOpening HDF5.File: (read-only) output_features_1.h5...\u001b[39m\n",
      "FITTING MODEL\n",
      "COMPLETED FITTING MODEL IN 0.00020384788513183594 seconds\n",
      "\n",
      "MODEL VERIFICATION:\n",
      "ACCURACY ON TRAINING SET: 95.5%\n",
      "\n",
      "\u001b[32mSAVING MODEL TO: raw_model_1.jld2 \u001b[39m\n",
      "\n",
      "\u001b[32m COMPLETED TRAINING MODEL IN 0.056 seconds...\u001b[39m\n"
     ]
    }
   ],
   "source": []
  },
  {
   "cell_type": "code",
   "execution_count": 15,
   "metadata": {},
   "outputs": [
    {
     "data": {
      "text/plain": [
       "RandomForestClassifier\n",
       "n_trees:             21\n",
       "n_subfeatures:       -1\n",
       "partial_sampling:    0.7\n",
       "max_depth:           14\n",
       "min_samples_leaf:    1\n",
       "min_samples_split:   2\n",
       "min_purity_increase: 0.0\n",
       "classes:             [0, 1]\n",
       "ensemble:            Ensemble of Decision Trees\n",
       "Trees:      21\n",
       "Avg Leaves: 6.904761904761905\n",
       "Avg Depth:  4.666666666666667"
      ]
     },
     "execution_count": 15,
     "metadata": {},
     "output_type": "execute_result"
    }
   ],
   "source": []
  },
  {
   "cell_type": "code",
   "execution_count": 18,
   "metadata": {},
   "outputs": [
    {
     "name": "stdout",
     "output_type": "stream",
     "text": [
      "\n",
      "\u001b[32mCALCULATING FEATURES FOR PASS: 1\u001b[39m\n",
      "Processed /Users/ischluesche/.julia/scratchspaces/905eca60-9fa9-4fb3-8835-f5cd63a3719c/ronin_testing/toy_set.nc in 0.011059999465942383 seconds\n",
      "COMPLETED PROCESSING 1 FILES IN 0.02 SECONDS\n",
      "OUTPUTTING DATA IN HDF5 FORMAT TO FILE: output_features_0.h5\n",
      "\n",
      "WRITING DATA TO FILE OF SHAPE (20, 2)\n",
      "X TYPE: Matrix{Float32}\n",
      "\u001b[32mFINISHED CALCULATING FEATURES FOR PASS 1 in 0.034 seconds...\u001b[39m\n",
      "\n",
      "\u001b[32mTRAINING MODEL FOR PASS: 1\u001b[39m\n",
      "\n",
      "\u001b[32m...TRAINING FOR PASS: 1 ON 20 GATES...\u001b[39m\n",
      "\n",
      "\u001b[34mOpening HDF5.File: (read-only) output_features_0.h5...\u001b[39m\n",
      "FITTING MODEL\n",
      "COMPLETED FITTING MODEL IN 0.0016739368438720703 seconds\n",
      "\n",
      "MODEL VERIFICATION:\n",
      "ACCURACY ON TRAINING SET: 95.0%\n",
      "\n",
      "\u001b[32mSAVING MODEL TO: raw_model_0.jld2 \u001b[39m\n",
      "Processed /Users/ischluesche/.julia/scratchspaces/905eca60-9fa9-4fb3-8835-f5cd63a3719c/ronin_testing/toy_set.nc in 0.0008320808410644531 seconds\n",
      "COMPLETED PROCESSING 1 FILES IN 0.0 SECONDS\n",
      "RESULTANT GATES: 15\u001b[31mDataset: /Users/ischluesche/.julia/scratchspaces/905eca60-9fa9-4fb3-8835-f5cd63a3719c/ronin_testing/toy_set.nc\u001b[39m\n",
      "Group: /\n",
      "\n",
      "\u001b[31mDimensions\u001b[39m\n",
      "   range = 5\n",
      "   time = 5\n",
      "\n",
      "\u001b[31mVariables\u001b[39m\n",
      "\u001b[32m  time\u001b[39m   (5)\n",
      "    Datatype:    \u001b[0m\u001b[1mFloat32\u001b[22m (Float32)\n",
      "    Dimensions:  time\n",
      "    Attributes:\n",
      "     units                = \u001b[36ms\u001b[39m\n",
      "\n",
      "\u001b[32m  range\u001b[39m   (5)\n",
      "    Datatype:    \u001b[0m\u001b[1mFloat32\u001b[22m (Float32)\n",
      "    Dimensions:  range\n",
      "    Attributes:\n",
      "     units                = \u001b[36mm\u001b[39m\n",
      "\n",
      "\u001b[32m  NCP\u001b[39m   (5 × 5)\n",
      "    Datatype:    \u001b[0m\u001b[1mFloat32\u001b[22m (Float32)\n",
      "    Dimensions:  range × time\n",
      "    Attributes:\n",
      "     units                = \u001b[36mNCP units\u001b[39m\n",
      "\n",
      "\u001b[32m  VEL\u001b[39m   (5 × 5)\n",
      "    Datatype:    \u001b[0m\u001b[1mFloat32\u001b[22m (Float32)\n",
      "    Dimensions:  range × time\n",
      "    Attributes:\n",
      "     units                = \u001b[36mm/s\u001b[39m\n",
      "\n",
      "\u001b[32m  DBZ\u001b[39m   (5 × 5)\n",
      "    Datatype:    \u001b[0m\u001b[1mUnion{Missing, Float32}\u001b[22m (Float32)\n",
      "    Dimensions:  range × time\n",
      "    Attributes:\n",
      "     units                = \u001b[36mlog\u001b[39m\n",
      "     _FillValue           = \u001b[36m9.96921e36\u001b[39m\n",
      "\n",
      "\u001b[32m  PGG\u001b[39m   (5 × 5)\n",
      "    Datatype:    \u001b[0m\u001b[1mFloat64\u001b[22m (Float64)\n",
      "    Dimensions:  range × time\n",
      "    Attributes:\n",
      "     units                = \u001b[36mpercent\u001b[39m\n",
      "\n",
      "\u001b[32m  VG\u001b[39m   (5 × 5)\n",
      "    Datatype:    \u001b[0m\u001b[1mUnion{Missing, Float32}\u001b[22m (Float32)\n",
      "    Dimensions:  range × time\n",
      "    Attributes:\n",
      "     units                = \u001b[36mm/s\u001b[39m\n",
      "     _FillValue           = \u001b[36m9.96921e36\u001b[39m\n",
      "\n",
      "\u001b[32m  PASS_2_MASK\u001b[39m   (5 × 5)\n",
      "    Datatype:    \u001b[0m\u001b[1mUnion{Missing, Float32}\u001b[22m (Float32)\n",
      "    Dimensions:  range × time\n",
      "    Attributes:\n",
      "     Units                = \u001b[36mBool\u001b[39m\n",
      "     _FillValue           = \u001b[36m-32000.0\u001b[39m\n",
      "     Description          = \u001b[36mGates between met prob theresholds\u001b[39m\n",
      "\n",
      "\u001b[32m  MASK_2\u001b[39m   (5 × 5)\n",
      "    Datatype:    \u001b[0m\u001b[1mUnion{Missing, Float32}\u001b[22m (Float32)\n",
      "    Dimensions:  range × time\n",
      "    Attributes:\n",
      "     Units                = \u001b[36mBool\u001b[39m\n",
      "     Description          = \u001b[36mGates between met prob theresholds\u001b[39m\n",
      "     _FillValue           = \u001b[36m-32000.0\u001b[39m\n",
      "\n",
      "NCDatasets.NetCDFError(-42, \"NetCDF: String match to name in use\")INPUT_SET NCDataset{Nothing, Missing}, VAR: StringAlready exists... overwriting\n",
      "\n",
      "\u001b[32mCALCULATING FEATURES FOR PASS: 2\u001b[39m\n",
      "Processed /Users/ischluesche/.julia/scratchspaces/905eca60-9fa9-4fb3-8835-f5cd63a3719c/ronin_testing/toy_set.nc in 0.0015070438385009766 seconds\n",
      "COMPLETED PROCESSING 1 FILES IN 0.0 SECONDS\n",
      "OUTPUTTING DATA IN HDF5 FORMAT TO FILE: output_features_1.h5\n",
      "\n",
      "WRITING DATA TO FILE OF SHAPE (15, 2)\n",
      "X TYPE: Matrix{Float32}\n",
      "\u001b[32mFINISHED CALCULATING FEATURES FOR PASS 2 in 0.005 seconds...\u001b[39m\n",
      "\n",
      "\u001b[32mTRAINING MODEL FOR PASS: 2\u001b[39m\n",
      "\n",
      "\u001b[32m...TRAINING FOR PASS: 2 ON 15 GATES...\u001b[39m\n",
      "\n",
      "\u001b[34mOpening HDF5.File: (read-only) output_features_1.h5...\u001b[39m\n",
      "FITTING MODEL\n",
      "COMPLETED FITTING MODEL IN 0.0002701282501220703 seconds\n",
      "\n",
      "MODEL VERIFICATION:\n",
      "ACCURACY ON TRAINING SET: 100.0%\n",
      "\n",
      "\u001b[32mSAVING MODEL TO: raw_model_1.jld2 \u001b[39m\n",
      "\n",
      "\u001b[32m COMPLETED TRAINING MODEL IN 0.105 seconds...\u001b[39m\n"
     ]
    }
   ],
   "source": [
    "####Test tree depth, n trees, etc. \n",
    "config.HAS_INTERACTIVE_QC = true\n",
    "config.QC_var = \"VG\"\n",
    "config.n_trees = 40 \n",
    "config.max_depth = 20 \n",
    "train_multi_model(config)\n",
    "classifier = load_object(config.model_output_paths[1])\n",
    "@assert classifier.n_trees == config.n_trees \n",
    "@assert classifier.max_depth == config.max_depth \n",
    "\n"
   ]
  },
  {
   "cell_type": "code",
   "execution_count": 15,
   "metadata": {},
   "outputs": [
    {
     "name": "stdout",
     "output_type": "stream",
     "text": [
      "\n",
      "\u001b[32mCALCULATING FEATURES FOR PASS: 1\u001b[39m\n",
      "Processed /Users/ischluesche/.julia/scratchspaces/905eca60-9fa9-4fb3-8835-f5cd63a3719c/ronin_testing/toy_set.nc in 0.0016720294952392578 seconds\n",
      "COMPLETED PROCESSING 1 FILES IN 0.0 SECONDS\n",
      "OUTPUTTING DATA IN HDF5 FORMAT TO FILE: output_features_0.h5\n",
      "\n",
      "WRITING DATA TO FILE OF SHAPE (20, 2)\n",
      "X TYPE: Matrix{Float32}\n",
      "\u001b[32mFINISHED CALCULATING FEATURES FOR PASS 1 in 0.007 seconds...\u001b[39m\n",
      "\n",
      "\u001b[32mTRAINING MODEL FOR PASS: 1\u001b[39m\n",
      "\n",
      "\u001b[32m...TRAINING FOR PASS: 1 ON 20 GATES...\u001b[39m\n",
      "\n",
      "\u001b[34mOpening HDF5.File: (read-only) output_features_0.h5...\u001b[39m\n",
      "FITTING MODEL\n",
      "COMPLETED FITTING MODEL IN 0.00024819374084472656 seconds\n",
      "\n",
      "MODEL VERIFICATION:\n",
      "ACCURACY ON TRAINING SET: 95.0%\n",
      "\n",
      "\u001b[32mSAVING MODEL TO: raw_model_0.jld2 \u001b[39m\n",
      "Processed /Users/ischluesche/.julia/scratchspaces/905eca60-9fa9-4fb3-8835-f5cd63a3719c/ronin_testing/toy_set.nc in 0.0009279251098632812 seconds\n",
      "COMPLETED PROCESSING 1 FILES IN 0.0 SECONDS\n",
      "RESULTANT GATES: 16\u001b[31mDataset: /Users/ischluesche/.julia/scratchspaces/905eca60-9fa9-4fb3-8835-f5cd63a3719c/ronin_testing/toy_set.nc\u001b[39m\n",
      "Group: /\n",
      "\n",
      "\u001b[31mDimensions\u001b[39m\n",
      "   range = 5\n",
      "   time = 5\n",
      "\n",
      "\u001b[31mVariables\u001b[39m\n",
      "\u001b[32m  time\u001b[39m   (5)\n",
      "    Datatype:    \u001b[0m\u001b[1mFloat32\u001b[22m (Float32)\n",
      "    Dimensions:  time\n",
      "    Attributes:\n",
      "     units                = \u001b[36ms\u001b[39m\n",
      "\n",
      "\u001b[32m  range\u001b[39m   (5)\n",
      "    Datatype:    \u001b[0m\u001b[1mFloat32\u001b[22m (Float32)\n",
      "    Dimensions:  range\n",
      "    Attributes:\n",
      "     units                = \u001b[36mm\u001b[39m\n",
      "\n",
      "\u001b[32m  NCP\u001b[39m   (5 × 5)\n",
      "    Datatype:    \u001b[0m\u001b[1mFloat32\u001b[22m (Float32)\n",
      "    Dimensions:  range × time\n",
      "    Attributes:\n",
      "     units                = \u001b[36mNCP units\u001b[39m\n",
      "\n",
      "\u001b[32m  VEL\u001b[39m   (5 × 5)\n",
      "    Datatype:    \u001b[0m\u001b[1mFloat32\u001b[22m (Float32)\n",
      "    Dimensions:  range × time\n",
      "    Attributes:\n",
      "     units                = \u001b[36mm/s\u001b[39m\n",
      "\n",
      "\u001b[32m  DBZ\u001b[39m   (5 × 5)\n",
      "    Datatype:    \u001b[0m\u001b[1mUnion{Missing, Float32}\u001b[22m (Float32)\n",
      "    Dimensions:  range × time\n",
      "    Attributes:\n",
      "     units                = \u001b[36mlog\u001b[39m\n",
      "     _FillValue           = \u001b[36m9.96921e36\u001b[39m\n",
      "\n",
      "\u001b[32m  PGG\u001b[39m   (5 × 5)\n",
      "    Datatype:    \u001b[0m\u001b[1mFloat64\u001b[22m (Float64)\n",
      "    Dimensions:  range × time\n",
      "    Attributes:\n",
      "     units                = \u001b[36mpercent\u001b[39m\n",
      "\n",
      "\u001b[32m  VG\u001b[39m   (5 × 5)\n",
      "    Datatype:    \u001b[0m\u001b[1mUnion{Missing, Float32}\u001b[22m (Float32)\n",
      "    Dimensions:  range × time\n",
      "    Attributes:\n",
      "     units                = \u001b[36mm/s\u001b[39m\n",
      "     _FillValue           = \u001b[36m9.96921e36\u001b[39m\n",
      "\n",
      "\u001b[32m  PASS_2_MASK\u001b[39m   (5 × 5)\n",
      "    Datatype:    \u001b[0m\u001b[1mUnion{Missing, Float32}\u001b[22m (Float32)\n",
      "    Dimensions:  range × time\n",
      "    Attributes:\n",
      "     Units                = \u001b[36mBool\u001b[39m\n",
      "     _FillValue           = \u001b[36m-32000.0\u001b[39m\n",
      "     Description          = \u001b[36mGates between met prob theresholds\u001b[39m\n",
      "\n",
      "\u001b[32m  MASK_2\u001b[39m   (5 × 5)\n",
      "    Datatype:    \u001b[0m\u001b[1mUnion{Missing, Float32}\u001b[22m (Float32)\n",
      "    Dimensions:  range × time\n",
      "    Attributes:\n",
      "     Units                = \u001b[36mBool\u001b[39m\n",
      "     Description          = \u001b[36mGates between met prob theresholds\u001b[39m\n",
      "     _FillValue           = \u001b[36m-32000.0\u001b[39m\n",
      "\n",
      "NCDatasets.NetCDFError(-42, \"NetCDF: String match to name in use\")INPUT_SET NCDataset{Nothing, Missing}, VAR: StringAlready exists... overwriting\n",
      "\n",
      "\u001b[32mCALCULATING FEATURES FOR PASS: 2\u001b[39m\n",
      "Processed /Users/ischluesche/.julia/scratchspaces/905eca60-9fa9-4fb3-8835-f5cd63a3719c/ronin_testing/toy_set.nc in 0.0011959075927734375 seconds\n",
      "COMPLETED PROCESSING 1 FILES IN 0.0 SECONDS\n",
      "OUTPUTTING DATA IN HDF5 FORMAT TO FILE: output_features_1.h5\n",
      "\n",
      "WRITING DATA TO FILE OF SHAPE (16, 2)\n",
      "X TYPE: Matrix{Float32}\n",
      "\u001b[32mFINISHED CALCULATING FEATURES FOR PASS 2 in 0.005 seconds...\u001b[39m\n",
      "\n",
      "\u001b[32mTRAINING MODEL FOR PASS: 2\u001b[39m\n",
      "\n",
      "\u001b[32m...TRAINING FOR PASS: 2 ON 16 GATES...\u001b[39m\n",
      "\n",
      "\u001b[34mOpening HDF5.File: (read-only) output_features_1.h5...\u001b[39m\n",
      "FITTING MODEL\n",
      "COMPLETED FITTING MODEL IN 0.0003948211669921875 seconds\n",
      "\n",
      "MODEL VERIFICATION:\n",
      "ACCURACY ON TRAINING SET: 93.8%\n",
      "\n",
      "\u001b[32mSAVING MODEL TO: raw_model_1.jld2 \u001b[39m\n",
      "\n",
      "\u001b[32m COMPLETED TRAINING MODEL IN 0.076 seconds...\u001b[39m\n"
     ]
    }
   ],
   "source": [
    "config.REMOVE_HIGH_PGG = false  \n",
    "config.REMOVE_LOW_NCP = false  \n",
    "\n",
    "valid_NCP_gates = sum(sample_NCP .> config.NCP_THRESHOLD)\n",
    "total_gates = length(sample_DBZ)\n",
    "\n",
    "config.REMOVE_LOW_NCP = true \n",
    "\n",
    "train_multi_model(config)"
   ]
  },
  {
   "cell_type": "code",
   "execution_count": 106,
   "metadata": {},
   "outputs": [
    {
     "data": {
      "text/plain": [
       "5×5 Matrix{Float32}:\n",
       " 32.0  65.0  54.0  18.0  52.0\n",
       " 44.0  22.0  12.0  35.0  63.0\n",
       " 39.0  12.0  62.0   6.0  30.0\n",
       " 10.0  24.0  55.0  59.0  49.0\n",
       " 44.0  31.0  23.0  17.0  54.0"
      ]
     },
     "execution_count": 106,
     "metadata": {},
     "output_type": "execute_result"
    }
   ],
   "source": [
    "sample_DBZ"
   ]
  },
  {
   "cell_type": "code",
   "execution_count": 79,
   "metadata": {},
   "outputs": [
    {
     "name": "stdout",
     "output_type": "stream",
     "text": [
      "\n",
      "\u001b[32mCALCULATING FEATURES FOR PASS: 1\u001b[39m\n",
      "Processed ./toy_set.nc in 0.0027959346771240234 seconds\n",
      "COMPLETED PROCESSING 1 FILES IN 0.0 SECONDS\n",
      "OUTPUTTING DATA IN HDF5 FORMAT TO FILE: output_features_0.h5\n",
      "\n",
      "WRITING DATA TO FILE OF SHAPE (25, 2)\n",
      "X TYPE: Matrix{Float32}\n",
      "\u001b[32mFINISHED CALCULATING FEATURES FOR PASS 1 in 0.007 seconds...\u001b[39m\n",
      "\n",
      "\u001b[32mTRAINING MODEL FOR PASS: 1\u001b[39m\n",
      "\n",
      "\u001b[32m...TRAINING FOR PASS: 1 ON 25 GATES...\u001b[39m\n",
      "\n",
      "\u001b[34mOpening HDF5.File: (read-only) output_features_0.h5...\u001b[39m\n",
      "FITTING MODEL\n",
      "COMPLETED FITTING MODEL IN 0.0004858970642089844 seconds\n",
      "\n",
      "MODEL VERIFICATION:\n",
      "ACCURACY ON TRAINING SET: 100.0%\n",
      "\n",
      "\u001b[32mSAVING MODEL TO: raw_model_0.jld2 \u001b[39m\n",
      "Processed ./toy_set.nc in 0.001422882080078125 seconds\n",
      "COMPLETED PROCESSING 1 FILES IN 0.0 SECONDS\n",
      "RESULTANT GATES: 20\u001b[31mDataset: ./toy_set.nc\u001b[39m\n",
      "Group: /\n",
      "\n",
      "\u001b[31mDimensions\u001b[39m\n",
      "   range = 5\n",
      "   time = 5\n",
      "\n",
      "\u001b[31mVariables\u001b[39m\n",
      "\u001b[32m  time\u001b[39m   (5)\n",
      "    Datatype:    \u001b[0m\u001b[1mFloat32\u001b[22m (Float32)\n",
      "    Dimensions:  time\n",
      "    Attributes:\n",
      "     units                = \u001b[36ms\u001b[39m\n",
      "\n",
      "\u001b[32m  range\u001b[39m   (5)\n",
      "    Datatype:    \u001b[0m\u001b[1mFloat32\u001b[22m (Float32)\n",
      "    Dimensions:  range\n",
      "    Attributes:\n",
      "     units                = \u001b[36mm\u001b[39m\n",
      "\n",
      "\u001b[32m  NCP\u001b[39m   (5 × 5)\n",
      "    Datatype:    \u001b[0m\u001b[1mFloat32\u001b[22m (Float32)\n",
      "    Dimensions:  range × time\n",
      "    Attributes:\n",
      "     units                = \u001b[36mNCP units\u001b[39m\n",
      "\n",
      "\u001b[32m  VEL\u001b[39m   (5 × 5)\n",
      "    Datatype:    \u001b[0m\u001b[1mFloat32\u001b[22m (Float32)\n",
      "    Dimensions:  range × time\n",
      "    Attributes:\n",
      "     units                = \u001b[36mm/s\u001b[39m\n",
      "\n",
      "\u001b[32m  DBZ\u001b[39m   (5 × 5)\n",
      "    Datatype:    \u001b[0m\u001b[1mUnion{Missing, Float32}\u001b[22m (Float32)\n",
      "    Dimensions:  range × time\n",
      "    Attributes:\n",
      "     units                = \u001b[36mlog\u001b[39m\n",
      "     _FillValue           = \u001b[36m9.96921e36\u001b[39m\n",
      "\n",
      "\u001b[32m  PGG\u001b[39m   (5 × 5)\n",
      "    Datatype:    \u001b[0m\u001b[1mFloat64\u001b[22m (Float64)\n",
      "    Dimensions:  range × time\n",
      "    Attributes:\n",
      "     units                = \u001b[36mpercent\u001b[39m\n",
      "\n",
      "\u001b[32m  VG\u001b[39m   (5 × 5)\n",
      "    Datatype:    \u001b[0m\u001b[1mUnion{Missing, Float32}\u001b[22m (Float32)\n",
      "    Dimensions:  range × time\n",
      "    Attributes:\n",
      "     units                = \u001b[36mm/s\u001b[39m\n",
      "     _FillValue           = \u001b[36m9.96921e36\u001b[39m\n",
      "\n",
      "\n",
      "\u001b[32mCALCULATING FEATURES FOR PASS: 2\u001b[39m\n",
      "Processed ./toy_set.nc in 0.0012860298156738281 seconds\n",
      "COMPLETED PROCESSING 1 FILES IN 0.0 SECONDS\n",
      "OUTPUTTING DATA IN HDF5 FORMAT TO FILE: output_features_1.h5\n",
      "\n",
      "WRITING DATA TO FILE OF SHAPE (20, 2)\n",
      "X TYPE: Matrix{Float32}\n",
      "\u001b[32mFINISHED CALCULATING FEATURES FOR PASS 2 in 0.005 seconds...\u001b[39m\n",
      "\n",
      "\u001b[32mTRAINING MODEL FOR PASS: 2\u001b[39m\n",
      "\n",
      "\u001b[32m...TRAINING FOR PASS: 2 ON 20 GATES...\u001b[39m\n",
      "\n",
      "\u001b[34mOpening HDF5.File: (read-only) output_features_1.h5...\u001b[39m\n",
      "FITTING MODEL\n",
      "COMPLETED FITTING MODEL IN 0.00016999244689941406 seconds\n",
      "\n",
      "MODEL VERIFICATION:\n",
      "ACCURACY ON TRAINING SET: 95.0%\n",
      "\n",
      "\u001b[32mSAVING MODEL TO: raw_model_1.jld2 \u001b[39m\n",
      "\n",
      "\u001b[32m COMPLETED TRAINING MODEL IN 0.057 seconds...\u001b[39m\n",
      "Reading input features from file output_features_0.h5...\n",
      "\n",
      "\u001b[32mTRAINING MODEL FOR PASS: 1\u001b[39m\n",
      "\n",
      "\u001b[32m...TRAINING FOR PASS: 1 ON 25 GATES...\u001b[39m\n",
      "\n",
      "\u001b[34mOpening HDF5.File: (read-only) output_features_0.h5...\u001b[39m\n",
      "FITTING MODEL\n",
      "COMPLETED FITTING MODEL IN 0.00016999244689941406 seconds\n",
      "\n",
      "MODEL VERIFICATION:\n",
      "ACCURACY ON TRAINING SET: 100.0%\n",
      "\n",
      "\u001b[32mSAVING MODEL TO: raw_model_0.jld2 \u001b[39m\n",
      "Processed ./toy_set.nc in 0.0008840560913085938 seconds\n",
      "COMPLETED PROCESSING 1 FILES IN 0.0 SECONDS\n",
      "RESULTANT GATES: 20\u001b[31mDataset: ./toy_set.nc\u001b[39m\n",
      "Group: /\n",
      "\n",
      "\u001b[31mDimensions\u001b[39m\n",
      "   range = 5\n",
      "   time = 5\n",
      "\n",
      "\u001b[31mVariables\u001b[39m\n",
      "\u001b[32m  time\u001b[39m   (5)\n",
      "    Datatype:    \u001b[0m\u001b[1mFloat32\u001b[22m (Float32)\n",
      "    Dimensions:  time\n",
      "    Attributes:\n",
      "     units                = \u001b[36ms\u001b[39m\n",
      "\n",
      "\u001b[32m  range\u001b[39m   (5)\n",
      "    Datatype:    \u001b[0m\u001b[1mFloat32\u001b[22m (Float32)\n",
      "    Dimensions:  range\n",
      "    Attributes:\n",
      "     units                = \u001b[36mm\u001b[39m\n",
      "\n",
      "\u001b[32m  NCP\u001b[39m   (5 × 5)\n",
      "    Datatype:    \u001b[0m\u001b[1mFloat32\u001b[22m (Float32)\n",
      "    Dimensions:  range × time\n",
      "    Attributes:\n",
      "     units                = \u001b[36mNCP units\u001b[39m\n",
      "\n",
      "\u001b[32m  VEL\u001b[39m   (5 × 5)\n",
      "    Datatype:    \u001b[0m\u001b[1mFloat32\u001b[22m (Float32)\n",
      "    Dimensions:  range × time\n",
      "    Attributes:\n",
      "     units                = \u001b[36mm/s\u001b[39m\n",
      "\n",
      "\u001b[32m  DBZ\u001b[39m   (5 × 5)\n",
      "    Datatype:    \u001b[0m\u001b[1mUnion{Missing, Float32}\u001b[22m (Float32)\n",
      "    Dimensions:  range × time\n",
      "    Attributes:\n",
      "     units                = \u001b[36mlog\u001b[39m\n",
      "     _FillValue           = \u001b[36m9.96921e36\u001b[39m\n",
      "\n",
      "\u001b[32m  PGG\u001b[39m   (5 × 5)\n",
      "    Datatype:    \u001b[0m\u001b[1mFloat64\u001b[22m (Float64)\n",
      "    Dimensions:  range × time\n",
      "    Attributes:\n",
      "     units                = \u001b[36mpercent\u001b[39m\n",
      "\n",
      "\u001b[32m  VG\u001b[39m   (5 × 5)\n",
      "    Datatype:    \u001b[0m\u001b[1mUnion{Missing, Float32}\u001b[22m (Float32)\n",
      "    Dimensions:  range × time\n",
      "    Attributes:\n",
      "     units                = \u001b[36mm/s\u001b[39m\n",
      "     _FillValue           = \u001b[36m9.96921e36\u001b[39m\n",
      "\n",
      "\u001b[32m  PASS_2_MASK\u001b[39m   (5 × 5)\n",
      "    Datatype:    \u001b[0m\u001b[1mUnion{Missing, Float32}\u001b[22m (Float32)\n",
      "    Dimensions:  range × time\n",
      "    Attributes:\n",
      "     Units                = \u001b[36mBool\u001b[39m\n",
      "     _FillValue           = \u001b[36m-32000.0\u001b[39m\n",
      "     Description          = \u001b[36mGates between met prob theresholds\u001b[39m\n",
      "\n",
      "NCDatasets.NetCDFError(-42, \"NetCDF: String match to name in use\")INPUT_SET NCDataset{Nothing, Missing}, VAR: StringAlready exists... overwriting\n",
      "Reading input features from file output_features_1.h5...\n",
      "\n",
      "\u001b[32mTRAINING MODEL FOR PASS: 2\u001b[39m\n",
      "\n",
      "\u001b[32m...TRAINING FOR PASS: 2 ON 20 GATES...\u001b[39m\n",
      "\n",
      "\u001b[34mOpening HDF5.File: (read-only) output_features_1.h5...\u001b[39m\n",
      "FITTING MODEL\n",
      "COMPLETED FITTING MODEL IN 0.00014209747314453125 seconds\n",
      "\n",
      "MODEL VERIFICATION:\n",
      "ACCURACY ON TRAINING SET: 95.0%\n",
      "\n",
      "\u001b[32mSAVING MODEL TO: raw_model_1.jld2 \u001b[39m\n",
      "\n",
      "\u001b[32m COMPLETED TRAINING MODEL IN 0.063 seconds...\u001b[39m\n"
     ]
    }
   ],
   "source": [
    "###Create model config object\n",
    "config = ModelConfig(num_models = num_models,model_output_paths =  model_output_paths,met_probs =  met_probs, \n",
    "                    feature_output_paths = feature_output_paths, input_path = input_path,task_mode=\"nan\",file_preprocessed = [false, false],\n",
    "                     task_paths = task_paths, QC_var = QC_var, remove_var = remove_var, QC_mask = false, mask_names = mask_names,\n",
    "                     VARS_TO_QC = [\"VEL\"], class_weights = class_weights, HAS_INTERACTIVE_QC=true, task_weights = task_weights,\n",
    "                     REMOVE_HIGH_PGG=false, REMOVE_LOW_NCP=false)\n",
    "sleep(1) \n",
    "\n",
    "config.file_preprocessed = [false, false] \n",
    "train_multi_model(config)\n",
    "@assert (Base.time() - mtime(config.feature_output_paths[1])) < 1 \n",
    "sleep(2) \n",
    "config.file_preprocessed = [true, true] \n",
    "train_multi_model(config) \n",
    "@assert (Base.time() - mtime(config.feature_output_paths[1])) > 2\n"
   ]
  },
  {
   "cell_type": "code",
   "execution_count": 83,
   "metadata": {},
   "outputs": [
    {
     "ename": "LoadError",
     "evalue": "AssertionError: false",
     "output_type": "error",
     "traceback": [
      "AssertionError: false",
      "",
      "Stacktrace:",
      " [1] top-level scope",
      "   @ In[83]:1"
     ]
    }
   ],
   "source": [
    "@assert false"
   ]
  },
  {
   "cell_type": "code",
   "execution_count": 64,
   "metadata": {},
   "outputs": [
    {
     "data": {
      "text/plain": [
       "5-element view(::Matrix{Union{Missing, Float32}}, 3, :) with eltype Union{Missing, Float32}:\n",
       " missing\n",
       " missing\n",
       " missing\n",
       " missing\n",
       " missing"
      ]
     },
     "execution_count": 64,
     "metadata": {},
     "output_type": "execute_result"
    }
   ],
   "source": [
    "QC_mask = Matrix{Union{Missing, Float32}}(fill(1.,(5,5)))\n",
    "QC_mask[3,:] .= missing"
   ]
  },
  {
   "cell_type": "code",
   "execution_count": 78,
   "metadata": {},
   "outputs": [
    {
     "data": {
      "text/plain": [
       "524.8146052360535"
      ]
     },
     "execution_count": 78,
     "metadata": {},
     "output_type": "execute_result"
    }
   ],
   "source": []
  },
  {
   "cell_type": "code",
   "execution_count": 74,
   "metadata": {},
   "outputs": [
    {
     "ename": "LoadError",
     "evalue": "MethodError: objects of type Vector{Int64} are not callable\nUse square brackets [] for indexing an Array.\nThe object of type `Vector{Int64}` exists, but no method is defined for this combination of argument types when trying to treat it as a callable object.",
     "output_type": "error",
     "traceback": [
      "MethodError: objects of type Vector{Int64} are not callable\nUse square brackets [] for indexing an Array.\nThe object of type `Vector{Int64}` exists, but no method is defined for this combination of argument types when trying to treat it as a callable object.",
      "",
      "Stacktrace:",
      " [1] top-level scope",
      "   @ In[74]:2"
     ]
    }
   ],
   "source": []
  },
  {
   "cell_type": "code",
   "execution_count": 76,
   "metadata": {},
   "outputs": [
    {
     "data": {
      "text/plain": [
       "1.739560627353247e9"
      ]
     },
     "execution_count": 76,
     "metadata": {},
     "output_type": "execute_result"
    }
   ],
   "source": []
  },
  {
   "cell_type": "code",
   "execution_count": 41,
   "metadata": {},
   "outputs": [
    {
     "data": {
      "text/plain": [
       "2"
      ]
     },
     "execution_count": 41,
     "metadata": {},
     "output_type": "execute_result"
    }
   ],
   "source": [
    "length([1 ;2])"
   ]
  },
  {
   "cell_type": "code",
   "execution_count": 96,
   "metadata": {},
   "outputs": [
    {
     "name": "stdout",
     "output_type": "stream",
     "text": [
      "25"
     ]
    }
   ],
   "source": [
    "NCDataset(config.feature_output_paths[1]) do f\n",
    "    print(size(f[\"X\"][:,:])[1])\n",
    "end "
   ]
  },
  {
   "cell_type": "code",
   "execution_count": 25,
   "metadata": {},
   "outputs": [],
   "source": [
    "close(currs)"
   ]
  },
  {
   "cell_type": "code",
   "execution_count": null,
   "metadata": {},
   "outputs": [],
   "source": [
    "###test NCP and PGG thresholding "
   ]
  },
  {
   "cell_type": "code",
   "execution_count": 4,
   "metadata": {},
   "outputs": [
    {
     "name": "stdout",
     "output_type": "stream",
     "text": [
      "\n",
      "\u001b[32mCALCULATING FEATURES FOR PASS: 1\u001b[39m\n",
      "Processed ./toy_set.nc in 0.7293710708618164 seconds\n",
      "COMPLETED PROCESSING 1 FILES IN 0.84 SECONDS\n",
      "OUTPUTTING DATA IN HDF5 FORMAT TO FILE: output_features_0.h5\n",
      "\n",
      "WRITING DATA TO FILE OF SHAPE (25, 1)\n",
      "X TYPE: Matrix{Float32}\n",
      "\u001b[32mFINISHED CALCULATING FEATURES FOR PASS 1 in 1.591 seconds...\u001b[39m\n",
      "\n",
      "\u001b[32mTRAINING MODEL FOR PASS: 1\u001b[39m\n",
      "\n",
      "\u001b[32m...TRAINING FOR PASS: 1 ON 25 GATES...\u001b[39m\n",
      "\n",
      "\u001b[34mOpening HDF5.File: (read-only) output_features_0.h5...\u001b[39m\n",
      "FITTING MODEL\n",
      "COMPLETED FITTING MODEL IN 0.45818400382995605 seconds\n",
      "\n",
      "MODEL VERIFICATION:\n",
      "ACCURACY ON TRAINING SET: 88.0%\n",
      "\n",
      "\u001b[32mSAVING MODEL TO: raw_model_0.jld2 \u001b[39m\n",
      "Processed ./toy_set.nc in 0.0004439353942871094 seconds\n",
      "COMPLETED PROCESSING 1 FILES IN 0.0 SECONDS\n",
      "RESULTANT GATES: 16\u001b[31mDataset: ./toy_set.nc\u001b[39m\n",
      "Group: /\n",
      "\n",
      "\u001b[31mDimensions\u001b[39m\n",
      "   range = 5\n",
      "   time = 5\n",
      "\n",
      "\u001b[31mVariables\u001b[39m\n",
      "\u001b[32m  time\u001b[39m   (5)\n",
      "    Datatype:    \u001b[0m\u001b[1mFloat32\u001b[22m (Float32)\n",
      "    Dimensions:  time\n",
      "    Attributes:\n",
      "     units                = \u001b[36ms\u001b[39m\n",
      "\n",
      "\u001b[32m  range\u001b[39m   (5)\n",
      "    Datatype:    \u001b[0m\u001b[1mFloat32\u001b[22m (Float32)\n",
      "    Dimensions:  range\n",
      "    Attributes:\n",
      "     units                = \u001b[36mm\u001b[39m\n",
      "\n",
      "\u001b[32m  NCP\u001b[39m   (5 × 5)\n",
      "    Datatype:    \u001b[0m\u001b[1mFloat32\u001b[22m (Float32)\n",
      "    Dimensions:  range × time\n",
      "    Attributes:\n",
      "     units                = \u001b[36mNCP units\u001b[39m\n",
      "\n",
      "\u001b[32m  DBZ\u001b[39m   (5 × 5)\n",
      "    Datatype:    \u001b[0m\u001b[1mFloat32\u001b[22m (Float32)\n",
      "    Dimensions:  range × time\n",
      "    Attributes:\n",
      "     units                = \u001b[36mdBz\u001b[39m\n",
      "\n",
      "\u001b[32m  VEL\u001b[39m   (5 × 5)\n",
      "    Datatype:    \u001b[0m\u001b[1mFloat32\u001b[22m (Float32)\n",
      "    Dimensions:  range × time\n",
      "    Attributes:\n",
      "     units                = \u001b[36mm/s\u001b[39m\n",
      "\n",
      "\u001b[32m  VG\u001b[39m   (5 × 5)\n",
      "    Datatype:    \u001b[0m\u001b[1mUnion{Missing, Float32}\u001b[22m (Float32)\n",
      "    Dimensions:  range × time\n",
      "    Attributes:\n",
      "     units                = \u001b[36mm/s\u001b[39m\n",
      "     _FillValue           = \u001b[36m9.96921e36\u001b[39m\n",
      "\n",
      "\u001b[32m  PASS_2_MASK\u001b[39m   (5 × 5)\n",
      "    Datatype:    \u001b[0m\u001b[1mUnion{Missing, Float32}\u001b[22m (Float32)\n",
      "    Dimensions:  range × time\n",
      "    Attributes:\n",
      "     Units                = \u001b[36mBool\u001b[39m\n",
      "     _FillValue           = \u001b[36m-32000.0\u001b[39m\n",
      "     Description          = \u001b[36mGates between met prob theresholds\u001b[39m\n",
      "\n",
      "NCDatasets.NetCDFError(-42, \"NetCDF: String match to name in use\")INPUT_SET NCDataset{Nothing, Missing}, VAR: StringAlready exists... overwriting\n",
      "\n",
      "\u001b[32mCALCULATING FEATURES FOR PASS: 2\u001b[39m\n",
      "Processed ./toy_set.nc in 0.24356698989868164 seconds\n",
      "COMPLETED PROCESSING 1 FILES IN 0.25 SECONDS\n",
      "OUTPUTTING DATA IN HDF5 FORMAT TO FILE: output_features_1.h5\n",
      "\n",
      "WRITING DATA TO FILE OF SHAPE (16, 1)\n",
      "X TYPE: Matrix{Float32}\n",
      "\u001b[32mFINISHED CALCULATING FEATURES FOR PASS 2 in 0.253 seconds...\u001b[39m\n",
      "\n",
      "\u001b[32mTRAINING MODEL FOR PASS: 2\u001b[39m\n",
      "\n",
      "\u001b[32m...TRAINING FOR PASS: 2 ON 16 GATES...\u001b[39m\n",
      "\n",
      "\u001b[34mOpening HDF5.File: (read-only) output_features_1.h5...\u001b[39m\n",
      "FITTING MODEL\n",
      "COMPLETED FITTING MODEL IN 0.00013899803161621094 seconds\n",
      "\n",
      "MODEL VERIFICATION:\n",
      "ACCURACY ON TRAINING SET: 87.5%\n",
      "\n",
      "\u001b[32mSAVING MODEL TO: raw_model_1.jld2 \u001b[39m\n",
      "\n",
      "\u001b[32m COMPLETED TRAINING MODEL IN 6.978 seconds...\u001b[39m\n"
     ]
    }
   ],
   "source": [
    "train_multi_model(config)  "
   ]
  },
  {
   "cell_type": "code",
   "execution_count": 9,
   "metadata": {},
   "outputs": [
    {
     "data": {
      "text/plain": [
       "🗂️ HDF5.File: (read-only) output_features_0.h5\n",
       "├─ 🏷️ MISSING_FILL_VALUE\n",
       "├─ 🏷️ Parameters\n",
       "├─ 🔢 X\n",
       "└─ 🔢 Y"
      ]
     },
     "execution_count": 9,
     "metadata": {},
     "output_type": "execute_result"
    }
   ],
   "source": [
    "currs=h5open(\"output_features_0.h5\")"
   ]
  },
  {
   "cell_type": "code",
   "execution_count": 12,
   "metadata": {},
   "outputs": [
    {
     "data": {
      "text/plain": [
       "25×1 Matrix{Float32}:\n",
       " 44.0\n",
       " 57.0\n",
       "  6.0\n",
       " 60.0\n",
       " 54.0\n",
       " 22.0\n",
       " 40.0\n",
       " 29.0\n",
       " 23.0\n",
       " 63.0\n",
       " 36.0\n",
       "  6.0\n",
       " 21.0\n",
       " 37.0\n",
       "  6.0\n",
       " 38.0\n",
       " 46.0\n",
       "  4.0\n",
       " 62.0\n",
       " 26.0\n",
       " 58.0\n",
       " 12.0\n",
       " 18.0\n",
       " 43.0\n",
       " 22.0"
      ]
     },
     "execution_count": 12,
     "metadata": {},
     "output_type": "execute_result"
    }
   ],
   "source": [
    "currs[\"X\"][:,:]"
   ]
  },
  {
   "cell_type": "code",
   "execution_count": 5,
   "metadata": {},
   "outputs": [
    {
     "name": "stdout",
     "output_type": "stream",
     "text": [
      "\u001b[32mLOADING MODELS....\u001b[39m\n",
      "(25, 1)\u001b[31mDataset: ./toy_set.nc\u001b[39m\n",
      "Group: /\n",
      "\n",
      "\u001b[31mDimensions\u001b[39m\n",
      "   range = 5\n",
      "   time = 5\n",
      "\n",
      "\u001b[31mVariables\u001b[39m\n",
      "\u001b[32m  time\u001b[39m   (5)\n",
      "    Datatype:    \u001b[0m\u001b[1mFloat32\u001b[22m (Float32)\n",
      "    Dimensions:  time\n",
      "    Attributes:\n",
      "     units                = \u001b[36ms\u001b[39m\n",
      "\n",
      "\u001b[32m  range\u001b[39m   (5)\n",
      "    Datatype:    \u001b[0m\u001b[1mFloat32\u001b[22m (Float32)\n",
      "    Dimensions:  range\n",
      "    Attributes:\n",
      "     units                = \u001b[36mm\u001b[39m\n",
      "\n",
      "\u001b[32m  NCP\u001b[39m   (5 × 5)\n",
      "    Datatype:    \u001b[0m\u001b[1mFloat32\u001b[22m (Float32)\n",
      "    Dimensions:  range × time\n",
      "    Attributes:\n",
      "     units                = \u001b[36mNCP units\u001b[39m\n",
      "\n",
      "\u001b[32m  DBZ\u001b[39m   (5 × 5)\n",
      "    Datatype:    \u001b[0m\u001b[1mFloat32\u001b[22m (Float32)\n",
      "    Dimensions:  range × time\n",
      "    Attributes:\n",
      "     units                = \u001b[36mdBz\u001b[39m\n",
      "\n",
      "\u001b[32m  VEL\u001b[39m   (5 × 5)\n",
      "    Datatype:    \u001b[0m\u001b[1mFloat32\u001b[22m (Float32)\n",
      "    Dimensions:  range × time\n",
      "    Attributes:\n",
      "     units                = \u001b[36mm/s\u001b[39m\n",
      "\n",
      "\u001b[32m  VG\u001b[39m   (5 × 5)\n",
      "    Datatype:    \u001b[0m\u001b[1mUnion{Missing, Float32}\u001b[22m (Float32)\n",
      "    Dimensions:  range × time\n",
      "    Attributes:\n",
      "     units                = \u001b[36mm/s\u001b[39m\n",
      "     _FillValue           = \u001b[36m9.96921e36\u001b[39m\n",
      "\n",
      "\u001b[32m  PASS_2_MASK\u001b[39m   (5 × 5)\n",
      "    Datatype:    \u001b[0m\u001b[1mUnion{Missing, Float32}\u001b[22m (Float32)\n",
      "    Dimensions:  range × time\n",
      "    Attributes:\n",
      "     Units                = \u001b[36mBool\u001b[39m\n",
      "     _FillValue           = \u001b[36m-32000.0\u001b[39m\n",
      "     Description          = \u001b[36mGates between met prob theresholds\u001b[39m\n",
      "\n",
      "NCDatasets.NetCDFError(-42, \"NetCDF: String match to name in use\")INPUT_SET NCDataset{Nothing, Missing}, VAR: StringAlready exists... overwriting\n",
      "(16, 1)\u001b[32mQC-ING VEL in ./toy_set.nc\u001b[39m\n",
      "INITiAL COUNT: 25\n",
      "Completed in 0.8431899547576904 seconds\n",
      "\n",
      "\u001b[32mREMOVED 13 PRESUMED NON-METEORLOGICAL DATAPOINTS\u001b[39m\n",
      "FINAL COUNT OF DATAPOINTS IN VEL: 12\n"
     ]
    }
   ],
   "source": [
    "###Set up a sample model configuration object \n",
    "rets = QC_scan(config)"
   ]
  },
  {
   "cell_type": "code",
   "execution_count": 21,
   "metadata": {},
   "outputs": [
    {
     "data": {
      "text/plain": [
       "\"./tasks.txt\""
      ]
     },
     "execution_count": 21,
     "metadata": {},
     "output_type": "execute_result"
    }
   ],
   "source": [
    "config.task_paths[1]"
   ]
  },
  {
   "cell_type": "code",
   "execution_count": 8,
   "metadata": {},
   "outputs": [
    {
     "data": {
      "text/plain": [
       "closed Dataset"
      ]
     },
     "execution_count": 8,
     "metadata": {},
     "output_type": "execute_result"
    }
   ],
   "source": [
    "close(currs)"
   ]
  },
  {
   "cell_type": "code",
   "execution_count": 25,
   "metadata": {},
   "outputs": [
    {
     "data": {
      "text/plain": [
       "([25.0; 8.0; … ; 23.0; 7.0;;], [0; 0; … ; 1; 1;;], Bool[1, 1, 1, 1, 1, 1, 1, 1, 1, 1  …  1, 1, 1, 1, 1, 1, 1, 1, 1, 1])"
      ]
     },
     "execution_count": 25,
     "metadata": {},
     "output_type": "execute_result"
    }
   ],
   "source": [
    "X, Y, indexer = process_single_file(currs, config.task_paths[1], HAS_INTERACTIVE_QC=true, \n",
    "        REMOVE_HIGH_PGG=false, REMOVE_LOW_NCP=false, QC_variable=\"VG\", \n",
    "        replace_missing=false, remove_variable=\"VEL\")"
   ]
  },
  {
   "cell_type": "code",
   "execution_count": 26,
   "metadata": {},
   "outputs": [
    {
     "data": {
      "text/plain": [
       "closed Dataset"
      ]
     },
     "execution_count": 26,
     "metadata": {},
     "output_type": "execute_result"
    }
   ],
   "source": [
    "close(currs)"
   ]
  },
  {
   "cell_type": "code",
   "execution_count": 27,
   "metadata": {},
   "outputs": [
    {
     "data": {
      "text/plain": [
       "25×1 Matrix{Float64}:\n",
       " 25.0\n",
       "  8.0\n",
       " 46.0\n",
       " 46.0\n",
       " 14.0\n",
       " 38.0\n",
       " 13.0\n",
       " 16.0\n",
       " 61.0\n",
       "  6.0\n",
       "  3.0\n",
       " 61.0\n",
       " 27.0\n",
       " 62.0\n",
       " 31.0\n",
       " 36.0\n",
       " 55.0\n",
       "  8.0\n",
       " 16.0\n",
       " 41.0\n",
       " 23.0\n",
       " 63.0\n",
       " 64.0\n",
       " 23.0\n",
       "  7.0"
      ]
     },
     "execution_count": 27,
     "metadata": {},
     "output_type": "execute_result"
    }
   ],
   "source": [
    "X"
   ]
  },
  {
   "cell_type": "code",
   "execution_count": 30,
   "metadata": {},
   "outputs": [
    {
     "data": {
      "text/plain": [
       "25-element BitVector:\n",
       " 1\n",
       " 1\n",
       " 1\n",
       " 1\n",
       " 1\n",
       " 1\n",
       " 1\n",
       " 1\n",
       " 1\n",
       " 1\n",
       " 1\n",
       " 1\n",
       " 1\n",
       " 1\n",
       " 1\n",
       " 1\n",
       " 1\n",
       " 1\n",
       " 1\n",
       " 1\n",
       " 1\n",
       " 1\n",
       " 1\n",
       " 1\n",
       " 1"
      ]
     },
     "execution_count": 30,
     "metadata": {},
     "output_type": "execute_result"
    }
   ],
   "source": [
    "indexer"
   ]
  },
  {
   "cell_type": "code",
   "execution_count": 58,
   "metadata": {},
   "outputs": [
    {
     "data": {
      "text/plain": [
       "5×5 Matrix{Float64}:\n",
       " 0.333333  1.0       0.952381  1.0       0.809524\n",
       " 0.47619   0.571429  1.0       1.0       1.0\n",
       " 0.333333  0.952381  0.714286  0.47619   1.0\n",
       " 0.333333  1.0       1.0       0.952381  0.809524\n",
       " 0.333333  0.761905  0.904762  0.666667  0.761905"
      ]
     },
     "execution_count": 58,
     "metadata": {},
     "output_type": "execute_result"
    }
   ],
   "source": [
    "using JLD2\n",
    "push!(LOAD_PATH, \"../src/DecisionTree\")\n",
    "using DecisionTree\n",
    "\n"
   ]
  },
  {
   "cell_type": "code",
   "execution_count": 38,
   "metadata": {},
   "outputs": [
    {
     "data": {
      "text/plain": [
       "5×5 Matrix{Float64}:\n",
       " 0.333333  1.0       0.952381  1.0       0.809524\n",
       " 0.47619   0.571429  1.0       1.0       1.0\n",
       " 0.333333  0.952381  0.714286  0.47619   1.0\n",
       " 0.333333  1.0       1.0       0.952381  0.809524\n",
       " 0.333333  0.761905  0.904762  0.666667  0.761905"
      ]
     },
     "execution_count": 38,
     "metadata": {},
     "output_type": "execute_result"
    }
   ],
   "source": []
  },
  {
   "cell_type": "code",
   "execution_count": 43,
   "metadata": {},
   "outputs": [
    {
     "data": {
      "text/plain": [
       "13-element Vector{Float64}:\n",
       " 0.3333333333333333\n",
       " 0.47619047619047616\n",
       " 0.3333333333333333\n",
       " 0.3333333333333333\n",
       " 0.3333333333333333\n",
       " 0.5714285714285714\n",
       " 0.7619047619047619\n",
       " 0.7142857142857143\n",
       " 0.47619047619047616\n",
       " 0.6666666666666666\n",
       " 0.8095238095238095\n",
       " 0.8095238095238095\n",
       " 0.7619047619047619"
      ]
     },
     "execution_count": 43,
     "metadata": {},
     "output_type": "execute_result"
    }
   ],
   "source": [
    "calced_probs[(calced_probs .>= .1) .& (calced_probs .<= .9)]"
   ]
  },
  {
   "cell_type": "code",
   "execution_count": 44,
   "metadata": {},
   "outputs": [
    {
     "data": {
      "text/plain": [
       "5×5 BitMatrix:\n",
       " 1  0  0  0  1\n",
       " 1  1  0  0  0\n",
       " 1  0  1  1  0\n",
       " 1  0  0  0  1\n",
       " 1  1  0  1  1"
      ]
     },
     "execution_count": 44,
     "metadata": {},
     "output_type": "execute_result"
    }
   ],
   "source": [
    "(calced_probs .>= .1) .& (calced_probs .<= .9)"
   ]
  },
  {
   "cell_type": "code",
   "execution_count": 49,
   "metadata": {},
   "outputs": [
    {
     "data": {
      "text/plain": [
       "5×5 Matrix{Union{Missing, Float64}}:\n",
       " 1.0   missing   missing   missing  1.0\n",
       " 1.0  1.0        missing   missing   missing\n",
       " 1.0   missing  1.0       1.0        missing\n",
       " 1.0   missing   missing   missing  1.0\n",
       " 1.0  1.0        missing  1.0       1.0"
      ]
     },
     "execution_count": 49,
     "metadata": {},
     "output_type": "execute_result"
    }
   ],
   "source": [
    "currs[\"PASS_2_MASK\"][:,:]"
   ]
  },
  {
   "cell_type": "code",
   "execution_count": 51,
   "metadata": {},
   "outputs": [
    {
     "data": {
      "text/plain": [
       "5×5 Matrix{Union{Missing, Float32}}:\n",
       " missing  -17.0       -11.0         1.0          missing\n",
       " missing     missing    7.0       -19.0       -15.0\n",
       " missing  -10.0          missing     missing   -6.0\n",
       " missing   -9.0       -14.0         6.0          missing\n",
       " missing   17.0       -15.0          missing     missing"
      ]
     },
     "execution_count": 51,
     "metadata": {},
     "output_type": "execute_result"
    }
   ],
   "source": [
    "currs[\"VEL_QC\"][:,:]"
   ]
  },
  {
   "cell_type": "code",
   "execution_count": 52,
   "metadata": {},
   "outputs": [
    {
     "data": {
      "text/plain": [
       "5×5 Matrix{Float64}:\n",
       " 0.333333  1.0       0.952381  1.0       0.809524\n",
       " 0.47619   0.571429  1.0       1.0       1.0\n",
       " 0.333333  0.952381  0.714286  0.47619   1.0\n",
       " 0.333333  1.0       1.0       0.952381  0.809524\n",
       " 0.333333  0.761905  0.904762  0.666667  0.761905"
      ]
     },
     "execution_count": 52,
     "metadata": {},
     "output_type": "execute_result"
    }
   ],
   "source": [
    "calced_probs = reshape(mps, (5,5))"
   ]
  },
  {
   "cell_type": "code",
   "execution_count": 54,
   "metadata": {},
   "outputs": [
    {
     "data": {
      "text/plain": [
       "5×5 Matrix{Float64}:\n",
       " 0.333333  1.0       0.952381  1.0       0.809524\n",
       " 0.619048  0.619048  1.0       1.0       1.0\n",
       " 0.142857  0.952381  0.714286  0.619048  1.0\n",
       " 0.142857  1.0       1.0       0.952381  0.809524\n",
       " 0.238095  0.952381  0.904762  0.47619   0.714286"
      ]
     },
     "execution_count": 54,
     "metadata": {},
     "output_type": "execute_result"
    }
   ],
   "source": [
    "reshape(probs,(5,5))"
   ]
  },
  {
   "cell_type": "code",
   "execution_count": 47,
   "metadata": {},
   "outputs": [
    {
     "data": {
      "text/plain": [
       "\u001b[31mDataset: ./toy_set.nc\u001b[39m\n",
       "Group: /\n",
       "\n",
       "\u001b[31mDimensions\u001b[39m\n",
       "   range = 5\n",
       "   time = 5\n",
       "\n",
       "\u001b[31mVariables\u001b[39m\n",
       "\u001b[32m  time\u001b[39m   (5)\n",
       "    Datatype:    \u001b[0m\u001b[1mFloat32\u001b[22m (Float32)\n",
       "    Dimensions:  time\n",
       "    Attributes:\n",
       "     units                = \u001b[36ms\u001b[39m\n",
       "\n",
       "\u001b[32m  range\u001b[39m   (5)\n",
       "    Datatype:    \u001b[0m\u001b[1mFloat32\u001b[22m (Float32)\n",
       "    Dimensions:  range\n",
       "    Attributes:\n",
       "     units                = \u001b[36mm\u001b[39m\n",
       "\n",
       "\u001b[32m  NCP\u001b[39m   (5 × 5)\n",
       "    Datatype:    \u001b[0m\u001b[1mFloat32\u001b[22m (Float32)\n",
       "    Dimensions:  range × time\n",
       "    Attributes:\n",
       "     units                = \u001b[36mNCP units\u001b[39m\n",
       "\n",
       "\u001b[32m  DBZ\u001b[39m   (5 × 5)\n",
       "    Datatype:    \u001b[0m\u001b[1mFloat32\u001b[22m (Float32)\n",
       "    Dimensions:  range × time\n",
       "    Attributes:\n",
       "     units                = \u001b[36mdBz\u001b[39m\n",
       "\n",
       "\u001b[32m  VEL\u001b[39m   (5 × 5)\n",
       "    Datatype:    \u001b[0m\u001b[1mFloat32\u001b[22m (Float32)\n",
       "    Dimensions:  range × time\n",
       "    Attributes:\n",
       "     units                = \u001b[36mm/s\u001b[39m\n",
       "\n",
       "\u001b[32m  VG\u001b[39m   (5 × 5)\n",
       "    Datatype:    \u001b[0m\u001b[1mUnion{Missing, Float32}\u001b[22m (Float32)\n",
       "    Dimensions:  range × time\n",
       "    Attributes:\n",
       "     units                = \u001b[36mm/s\u001b[39m\n",
       "     _FillValue           = \u001b[36m9.96921e36\u001b[39m\n",
       "\n",
       "\u001b[32m  PASS_2_MASK\u001b[39m   (5 × 5)\n",
       "    Datatype:    \u001b[0m\u001b[1mUnion{Missing, Float64}\u001b[22m (Float64)\n",
       "    Dimensions:  range × time\n",
       "    Attributes:\n",
       "     Units                = \u001b[36mBool\u001b[39m\n",
       "     _FillValue           = \u001b[36m-32000.0\u001b[39m\n",
       "     Description          = \u001b[36mGates between met prob theresholds\u001b[39m\n",
       "\n",
       "\u001b[32m  VEL_QC\u001b[39m   (5 × 5)\n",
       "    Datatype:    \u001b[0m\u001b[1mUnion{Missing, Float32}\u001b[22m (Float32)\n",
       "    Dimensions:  range × time\n",
       "    Attributes:\n",
       "     units                = \u001b[36mm/s\u001b[39m\n",
       "     _FillValue           = \u001b[36m-32000.0\u001b[39m\n",
       "     long_name            = \u001b[36mRandom Forest Model QC'ed VEL field\u001b[39m\n",
       "\n"
      ]
     },
     "execution_count": 47,
     "metadata": {},
     "output_type": "execute_result"
    }
   ],
   "source": [
    "using NCDatasets\n",
    "currs = NCDataset(\"./toy_set.nc\")"
   ]
  },
  {
   "cell_type": "code",
   "execution_count": 39,
   "metadata": {},
   "outputs": [
    {
     "data": {
      "text/plain": [
       "2-element Vector{Tuple{Float64, Float64}}:\n",
       " (0.1, 0.9)\n",
       " (0.1, 0.9)"
      ]
     },
     "execution_count": 39,
     "metadata": {},
     "output_type": "execute_result"
    }
   ],
   "source": [
    "config.met_probs"
   ]
  },
  {
   "cell_type": "code",
   "execution_count": 37,
   "metadata": {},
   "outputs": [
    {
     "data": {
      "text/plain": [
       "5×5 Matrix{Float64}:\n",
       " 0.333333  1.0       0.952381  1.0       0.809524\n",
       " 0.619048  0.619048  1.0       1.0       1.0\n",
       " 0.142857  0.952381  0.714286  0.619048  1.0\n",
       " 0.142857  1.0       1.0       0.952381  0.809524\n",
       " 0.238095  0.952381  0.904762  0.47619   0.714286"
      ]
     },
     "execution_count": 37,
     "metadata": {},
     "output_type": "execute_result"
    }
   ],
   "source": [
    "reshape(probs, (5,5))"
   ]
  },
  {
   "cell_type": "code",
   "execution_count": 15,
   "metadata": {},
   "outputs": [
    {
     "name": "stdout",
     "output_type": "stream",
     "text": [
      "\u001b[32mLOADING MODELS....\u001b[39m\n",
      "(25, 1)\u001b[31mDataset: ./toy_set.nc\u001b[39m\n",
      "Group: /\n",
      "\n",
      "\u001b[31mDimensions\u001b[39m\n",
      "   range = 5\n",
      "   time = 5\n",
      "\n",
      "\u001b[31mVariables\u001b[39m\n",
      "\u001b[32m  time\u001b[39m   (5)\n",
      "    Datatype:    \u001b[0m\u001b[1mFloat32\u001b[22m (Float32)\n",
      "    Dimensions:  time\n",
      "    Attributes:\n",
      "     units                = \u001b[36ms\u001b[39m\n",
      "\n",
      "\u001b[32m  range\u001b[39m   (5)\n",
      "    Datatype:    \u001b[0m\u001b[1mFloat32\u001b[22m (Float32)\n",
      "    Dimensions:  range\n",
      "    Attributes:\n",
      "     units                = \u001b[36mm\u001b[39m\n",
      "\n",
      "\u001b[32m  NCP\u001b[39m   (5 × 5)\n",
      "    Datatype:    \u001b[0m\u001b[1mFloat32\u001b[22m (Float32)\n",
      "    Dimensions:  range × time\n",
      "    Attributes:\n",
      "     units                = \u001b[36mNCP units\u001b[39m\n",
      "\n",
      "\u001b[32m  DBZ\u001b[39m   (5 × 5)\n",
      "    Datatype:    \u001b[0m\u001b[1mFloat32\u001b[22m (Float32)\n",
      "    Dimensions:  range × time\n",
      "    Attributes:\n",
      "     units                = \u001b[36mdBz\u001b[39m\n",
      "\n",
      "\u001b[32m  VEL\u001b[39m   (5 × 5)\n",
      "    Datatype:    \u001b[0m\u001b[1mFloat32\u001b[22m (Float32)\n",
      "    Dimensions:  range × time\n",
      "    Attributes:\n",
      "     units                = \u001b[36mm/s\u001b[39m\n",
      "\n",
      "\u001b[32m  VG\u001b[39m   (5 × 5)\n",
      "    Datatype:    \u001b[0m\u001b[1mUnion{Missing, Float32}\u001b[22m (Float32)\n",
      "    Dimensions:  range × time\n",
      "    Attributes:\n",
      "     units                = \u001b[36mm/s\u001b[39m\n",
      "     _FillValue           = \u001b[36m9.96921e36\u001b[39m\n",
      "\n",
      "\u001b[32m  PASS_2_MASK\u001b[39m   (5 × 5)\n",
      "    Datatype:    \u001b[0m\u001b[1mUnion{Missing, Float64}\u001b[22m (Float64)\n",
      "    Dimensions:  range × time\n",
      "    Attributes:\n",
      "     Units                = \u001b[36mBool\u001b[39m\n",
      "     _FillValue           = \u001b[36m-32000.0\u001b[39m\n",
      "     Description          = \u001b[36mGates between met prob theresholds\u001b[39m\n",
      "\n",
      "\u001b[32m  VEL_QC\u001b[39m   (5 × 5)\n",
      "    Datatype:    \u001b[0m\u001b[1mUnion{Missing, Float32}\u001b[22m (Float32)\n",
      "    Dimensions:  range × time\n",
      "    Attributes:\n",
      "     units                = \u001b[36mm/s\u001b[39m\n",
      "     _FillValue           = \u001b[36m-32000.0\u001b[39m\n",
      "     long_name            = \u001b[36mRandom Forest Model QC'ed VEL field\u001b[39m\n",
      "\n",
      "NCDatasets.NetCDFError(-42, \"NetCDF: String match to name in use\")INPUT_SET NCDataset{Nothing, Missing}, VAR: StringAlready exists... overwriting\n",
      "(13, 1)"
     ]
    },
    {
     "data": {
      "text/plain": [
       "(Bool[0, 0, 0, 0, 0, 1, 0, 1, 1, 1  …  1, 1, 0, 1, 0, 0, 1, 1, 0, 0], [0; 0; … ; 1; 1;;], [[1.0, 1.0, 1.0, 1.0, 1.0, 1.0, 1.0, 1.0, 1.0, 1.0  …  1.0, 1.0, 1.0, 1.0, 1.0, 1.0, 1.0, 1.0, 1.0, 1.0]], [0.3333333333333333, 0.6190476190476191, 0.14285714285714285, 0.14285714285714285, 0.23809523809523808, 1.0, 0.6190476190476191, 0.9523809523809523, 1.0, 0.9523809523809523  …  1.0, 1.0, 0.6190476190476191, 0.9523809523809523, 0.47619047619047616, 0.8095238095238095, 1.0, 1.0, 0.8095238095238095, 0.7142857142857143])"
      ]
     },
     "execution_count": 15,
     "metadata": {},
     "output_type": "execute_result"
    }
   ],
   "source": [
    "rets = composite_prediction(config, return_probs=true)"
   ]
  },
  {
   "cell_type": "code",
   "execution_count": 17,
   "metadata": {},
   "outputs": [
    {
     "data": {
      "text/plain": [
       "(Bool[0, 0, 0, 0, 0, 1, 0, 1, 1, 1  …  1, 1, 0, 1, 0, 0, 1, 1, 0, 0], [0; 0; … ; 1; 1;;], [[1.0, 1.0, 1.0, 1.0, 1.0, 1.0, 1.0, 1.0, 1.0, 1.0  …  1.0, 1.0, 1.0, 1.0, 1.0, 1.0, 1.0, 1.0, 1.0, 1.0]], [0.3333333333333333, 0.6190476190476191, 0.14285714285714285, 0.14285714285714285, 0.23809523809523808, 1.0, 0.6190476190476191, 0.9523809523809523, 1.0, 0.9523809523809523  …  1.0, 1.0, 0.6190476190476191, 0.9523809523809523, 0.47619047619047616, 0.8095238095238095, 1.0, 1.0, 0.8095238095238095, 0.7142857142857143])"
      ]
     },
     "execution_count": 17,
     "metadata": {},
     "output_type": "execute_result"
    }
   ],
   "source": [
    "X, y, idxers, probs = rets"
   ]
  },
  {
   "cell_type": "code",
   "execution_count": 19,
   "metadata": {},
   "outputs": [
    {
     "data": {
      "text/plain": [
       "5×5 Matrix{Float64}:\n",
       " 0.333333  1.0       0.952381  1.0       0.809524\n",
       " 0.619048  0.619048  1.0       1.0       1.0\n",
       " 0.142857  0.952381  0.714286  0.619048  1.0\n",
       " 0.142857  1.0       1.0       0.952381  0.809524\n",
       " 0.238095  0.952381  0.904762  0.47619   0.714286"
      ]
     },
     "execution_count": 19,
     "metadata": {},
     "output_type": "execute_result"
    }
   ],
   "source": [
    "reshape(probs, (5,5))"
   ]
  },
  {
   "cell_type": "code",
   "execution_count": 118,
   "metadata": {},
   "outputs": [
    {
     "data": {
      "text/plain": [
       "25-element Vector{Float64}:\n",
       " 1.0\n",
       " 1.0\n",
       " 1.0\n",
       " 1.0\n",
       " 1.0\n",
       " 1.0\n",
       " 1.0\n",
       " 1.0\n",
       " 1.0\n",
       " 1.0\n",
       " 1.0\n",
       " 1.0\n",
       " 1.0\n",
       " 1.0\n",
       " 1.0\n",
       " 1.0\n",
       " 1.0\n",
       " 1.0\n",
       " 1.0\n",
       " 1.0\n",
       " 1.0\n",
       " 1.0\n",
       " 1.0\n",
       " 1.0\n",
       " 1.0"
      ]
     },
     "execution_count": 118,
     "metadata": {},
     "output_type": "execute_result"
    }
   ],
   "source": [
    "sum(idxers)"
   ]
  },
  {
   "cell_type": "code",
   "execution_count": 112,
   "metadata": {},
   "outputs": [
    {
     "data": {
      "text/plain": [
       "5×5 Matrix{Union{Missing, Float64}}:\n",
       " 1.0   missing   missing   missing  1.0\n",
       " 1.0  1.0        missing   missing   missing\n",
       " 1.0   missing  1.0       1.0        missing\n",
       " 1.0   missing   missing   missing  1.0\n",
       " 1.0  1.0        missing  1.0       1.0"
      ]
     },
     "execution_count": 112,
     "metadata": {},
     "output_type": "execute_result"
    }
   ],
   "source": [
    "curr_model = load_object(\"raw_model_0.jld2\")\n",
    "mps = predict_proba(curr_model, X)[:,2]\n",
    "calced_probs = reshape(mps, (5,5))\n",
    "\n",
    "\n",
    "pass_2_valid = (calced_probs .>= config.met_probs[1][1]) .& (calced_probs .<= config.met_probs[1][2])\n",
    "pass_2_real = currs[config.mask_names[2]][:,:]"
   ]
  },
  {
   "cell_type": "code",
   "execution_count": 113,
   "metadata": {},
   "outputs": [
    {
     "data": {
      "text/plain": [
       "12-element view(reshape(::Matrix{Union{Missing, Float64}}, 25), [6, 8, 9, 11, 12, 14, 15, 16, 17, 19, 22, 23]) with eltype Union{Missing, Float64}:\n",
       " 0.0\n",
       " 0.0\n",
       " 0.0\n",
       " 0.0\n",
       " 0.0\n",
       " 0.0\n",
       " 0.0\n",
       " 0.0\n",
       " 0.0\n",
       " 0.0\n",
       " 0.0\n",
       " 0.0"
      ]
     },
     "execution_count": 113,
     "metadata": {},
     "output_type": "execute_result"
    }
   ],
   "source": [
    "pass_2_real[BitMatrix(map(ismissing, pass_2_real))] .= 0"
   ]
  },
  {
   "cell_type": "code",
   "execution_count": 116,
   "metadata": {},
   "outputs": [
    {
     "data": {
      "text/plain": [
       "true"
      ]
     },
     "execution_count": 116,
     "metadata": {},
     "output_type": "execute_result"
    }
   ],
   "source": [
    "Matrix{Bool}(pass_2_real) == pass_2_valid"
   ]
  },
  {
   "cell_type": "code",
   "execution_count": 104,
   "metadata": {},
   "outputs": [
    {
     "data": {
      "text/plain": [
       "5×5 Matrix{Union{Missing, Float64}}:\n",
       " 1.0   missing   missing   missing  1.0\n",
       " 1.0  1.0        missing   missing   missing\n",
       " 1.0   missing  1.0       1.0        missing\n",
       " 1.0   missing   missing   missing  1.0\n",
       " 1.0  1.0        missing  1.0       1.0"
      ]
     },
     "execution_count": 104,
     "metadata": {},
     "output_type": "execute_result"
    }
   ],
   "source": [
    "pass_2_real"
   ]
  },
  {
   "cell_type": "code",
   "execution_count": 98,
   "metadata": {},
   "outputs": [
    {
     "data": {
      "text/plain": [
       "5×5 Matrix{Union{Missing, Float64}}:\n",
       " 1.0   missing   missing   missing  1.0\n",
       " 1.0  1.0        missing   missing   missing\n",
       " 1.0   missing  1.0       1.0        missing\n",
       " 1.0   missing   missing   missing  1.0\n",
       " 1.0  1.0        missing  1.0       1.0"
      ]
     },
     "execution_count": 98,
     "metadata": {},
     "output_type": "execute_result"
    }
   ],
   "source": [
    "pass_2_real"
   ]
  },
  {
   "cell_type": "code",
   "execution_count": 89,
   "metadata": {},
   "outputs": [
    {
     "data": {
      "text/plain": [
       "5×5 Matrix{Union{Missing, Bool}}:\n",
       " 1  0  0  0  1\n",
       " 1  1  0  0  0\n",
       " 1  0  1  1  0\n",
       " 1  0  0  0  1\n",
       " 1  1  0  1  1"
      ]
     },
     "execution_count": 89,
     "metadata": {},
     "output_type": "execute_result"
    }
   ],
   "source": [
    "idx = pass_2_valid .== 0 \n",
    "pass_2_valid = Matrix{Union{Bool, Missing}}(pass_2_valid)"
   ]
  },
  {
   "cell_type": "code",
   "execution_count": 90,
   "metadata": {},
   "outputs": [
    {
     "data": {
      "text/plain": [
       "12-element view(reshape(::Matrix{Union{Missing, Bool}}, 25), [6, 8, 9, 11, 12, 14, 15, 16, 17, 19, 22, 23]) with eltype Union{Missing, Bool}:\n",
       " missing\n",
       " missing\n",
       " missing\n",
       " missing\n",
       " missing\n",
       " missing\n",
       " missing\n",
       " missing\n",
       " missing\n",
       " missing\n",
       " missing\n",
       " missing"
      ]
     },
     "execution_count": 90,
     "metadata": {},
     "output_type": "execute_result"
    }
   ],
   "source": [
    "pass_2_valid[.! pass_2_valid] .= missing"
   ]
  },
  {
   "cell_type": "code",
   "execution_count": 92,
   "metadata": {},
   "outputs": [
    {
     "data": {
      "text/plain": [
       "missing"
      ]
     },
     "execution_count": 92,
     "metadata": {},
     "output_type": "execute_result"
    }
   ],
   "source": [
    "pass_2_valid == pass_2_real"
   ]
  },
  {
   "cell_type": "code",
   "execution_count": 75,
   "metadata": {},
   "outputs": [
    {
     "data": {
      "text/plain": [
       "5×5 BitMatrix:\n",
       " 0  1  1  1  0\n",
       " 0  0  1  1  1\n",
       " 0  1  0  0  1\n",
       " 0  1  1  1  0\n",
       " 0  0  1  0  0"
      ]
     },
     "execution_count": 75,
     "metadata": {},
     "output_type": "execute_result"
    }
   ],
   "source": [
    "idx"
   ]
  },
  {
   "cell_type": "code",
   "execution_count": 74,
   "metadata": {},
   "outputs": [
    {
     "data": {
      "text/plain": [
       "12-element Vector{Missing}:\n",
       " missing\n",
       " missing\n",
       " missing\n",
       " missing\n",
       " missing\n",
       " missing\n",
       " missing\n",
       " missing\n",
       " missing\n",
       " missing\n",
       " missing\n",
       " missing"
      ]
     },
     "execution_count": 74,
     "metadata": {},
     "output_type": "execute_result"
    }
   ],
   "source": [
    "pass_2_valid[idx] .== missing"
   ]
  },
  {
   "cell_type": "code",
   "execution_count": 67,
   "metadata": {},
   "outputs": [
    {
     "data": {
      "text/plain": [
       "5×5 Matrix{Union{Missing, Bool}}:\n",
       " 1   missing   missing   missing  1\n",
       " 1  1          missing   missing   missing\n",
       " 1   missing  1         1          missing\n",
       " 1   missing   missing   missing  1\n",
       " 1  1          missing  1         1"
      ]
     },
     "execution_count": 67,
     "metadata": {},
     "output_type": "execute_result"
    }
   ],
   "source": [
    "pass_2_valid .== pass_2_real"
   ]
  },
  {
   "cell_type": "code",
   "execution_count": 61,
   "metadata": {},
   "outputs": [
    {
     "ename": "LoadError",
     "evalue": "NetCDF error: \u001b[31mVariable './toy_set.nc' not found in file ./toy_set.nc\u001b[39m (NetCDF error code: -49)",
     "output_type": "error",
     "traceback": [
      "NetCDF error: \u001b[31mVariable './toy_set.nc' not found in file ./toy_set.nc\u001b[39m (NetCDF error code: -49)",
      "",
      "Stacktrace:",
      " [1] nc_inq_varid(ncid::Int32, name::String)",
      "   @ NCDatasets ~/.julia/packages/NCDatasets/LjXBn/src/netcdf_c.jl:1558",
      " [2] _variable",
      "   @ ~/.julia/packages/NCDatasets/LjXBn/src/variable.jl:72 [inlined]",
      " [3] variable",
      "   @ ~/.julia/packages/NCDatasets/LjXBn/src/variable.jl:83 [inlined]",
      " [4] cfvariable(ds::NCDataset{Nothing, Missing}, varname::String)",
      "   @ CommonDataModel ~/.julia/packages/CommonDataModel/vTYnt/src/cfvariable.jl:86",
      " [5] getindex(ds::NCDataset{Nothing, Missing}, varname::String)",
      "   @ CommonDataModel ~/.julia/packages/CommonDataModel/vTYnt/src/dataset.jl:170",
      " [6] top-level scope",
      "   @ In[61]:1"
     ]
    }
   ],
   "source": [
    "currs[\"./toy_set.nc\"]"
   ]
  },
  {
   "cell_type": "code",
   "execution_count": 57,
   "metadata": {},
   "outputs": [
    {
     "data": {
      "text/plain": [
       "5×5 Matrix{Union{Missing, Float32}}:\n",
       " missing  -17.0       -11.0         1.0          missing\n",
       " missing     missing    7.0       -19.0       -15.0\n",
       " missing  -10.0          missing     missing   -6.0\n",
       " missing   -9.0       -14.0         6.0          missing\n",
       " missing   17.0       -15.0          missing     missing"
      ]
     },
     "execution_count": 57,
     "metadata": {},
     "output_type": "execute_result"
    }
   ],
   "source": [
    "###let's write a test here. \n",
    "currs = NCDataset(\"./toy_set.nc\")\n",
    "QCed_set = currs[\"VEL_QC\"][:,:]"
   ]
  },
  {
   "cell_type": "code",
   "execution_count": 143,
   "metadata": {},
   "outputs": [
    {
     "data": {
      "text/plain": [
       "5×5 Matrix{Union{Missing, Float32}}:\n",
       "  8.0  28.0  35.0  57.0  65.0\n",
       " 22.0  57.0  55.0  26.0  22.0\n",
       " 33.0  19.0  16.0  54.0  13.0\n",
       " 33.0   2.0  48.0  53.0  43.0\n",
       " 43.0  29.0  10.0  54.0  63.0"
      ]
     },
     "execution_count": 143,
     "metadata": {},
     "output_type": "execute_result"
    }
   ],
   "source": [
    "sample_DBZ"
   ]
  },
  {
   "cell_type": "code",
   "execution_count": 249,
   "metadata": {},
   "outputs": [
    {
     "data": {
      "text/plain": [
       "slide_window (generic function with 3 methods)"
      ]
     },
     "execution_count": 249,
     "metadata": {},
     "output_type": "execute_result"
    }
   ],
   "source": [
    "##Set up a toy example to do the analytical calculations \n",
    "\n",
    "function slide_window(var::Matrix{Union{Missing, Float32}}, window::Matrix{Union{Missing,Float32}}, func; replace_missing = false)\n",
    "\n",
    "    ##First, construct matrix and apply window \n",
    "    nrow, ncol = size(var)\n",
    "    wrow, wcol = size(window) \n",
    "\n",
    "    ###int divide to get the windows off center \n",
    "    plusx = div(wcol, 2)\n",
    "    plusy = div(wrow, 2)\n",
    "\n",
    "    ###Get center coordinates of window \n",
    "    wc = (plusx+1, plusy+1)\n",
    "\n",
    "    res = zeros(size(var))\n",
    "    curr_view = fill(Missing, (size(window)))\n",
    "    for i in 1:1:nrow\n",
    "        for j in 1:1:ncol\n",
    "            \n",
    "            ###Calculate maximum and minimum indicies into the variable array \n",
    "            maxx = i + plusy > nrow ? nrow : i + plusy \n",
    "            maxy = j + plusx > ncol ? ncol : j + plusx\n",
    "            minx = i - plusy < 1    ? 1    : i - plusy \n",
    "            miny = j - plusx < 1    ? 1    : j - plusx \n",
    "            \n",
    "\n",
    "            ###Calculate indicies into the window/weight array \n",
    "            ###Difference here is that these will simply be in relation to the center of the window \n",
    "            windx = ((wc[1] - (i-minx)), (wc[1] + (maxx-i)))\n",
    "            windy = ((wc[2] - (j-miny)), (wc[2] + (maxy-j)))\n",
    "\n",
    "            ##Calculate resultant matrix    \n",
    "            weighted = var[miny:maxy,minx:maxx] .* window[windy[1]:windy[2], windx[1]:windx[2]]\n",
    "            #println(weighted)\n",
    "\n",
    "            # ##i,j is the center index \n",
    "            # println([i,j])\n",
    "\n",
    "            # printstyled(\"ROW WINDOW: $(minx : maxx) COL WINDOW: $(miny : maxy)\\n\", color=:green)\n",
    "            # printstyled(\"WINDOW INDEX: $(windx) $(windy)\\n\", color=:blue)\n",
    "            # if (i,j) == (5,4) \n",
    "            #     printstyled(\"ROW WINDOW: $(minx : maxx) COL WINDOW: $(miny : maxy)\\n\", color=:green)\n",
    "            #     printstyled(\"WINDOW INDEX: $(windx) $(windy)\\n\", color=:blue)\n",
    "            # end \n",
    "\n",
    "            res[j,i] = func(weighted)\n",
    "        end \n",
    "    end \n",
    "    Matrix{Float32}(res)\n",
    "end "
   ]
  },
  {
   "cell_type": "code",
   "execution_count": 250,
   "metadata": {},
   "outputs": [
    {
     "data": {
      "text/plain": [
       "4×5 Matrix{Float32}:\n",
       " 22.0  57.0  55.0  26.0  22.0\n",
       " 33.0  19.0  16.0  54.0  13.0\n",
       " 33.0   2.0  48.0  53.0  43.0\n",
       " 43.0  29.0  10.0  54.0  63.0"
      ]
     },
     "execution_count": 250,
     "metadata": {},
     "output_type": "execute_result"
    }
   ],
   "source": [
    "sample_DBZ[2:5, 1:5] .* sw[1:4, 1:5]"
   ]
  },
  {
   "cell_type": "code",
   "execution_count": 255,
   "metadata": {},
   "outputs": [
    {
     "data": {
      "text/plain": [
       "7×7 Matrix{Union{Missing, Float32}}:\n",
       " 1.0  1.0  1.0  1.0  1.0  1.0  1.0\n",
       " 1.0  1.0  1.0  1.0  1.0  1.0  1.0\n",
       " 1.0  1.0  1.0  1.0  1.0  1.0  1.0\n",
       " 1.0  1.0  1.0  1.0  1.0  1.0  1.0\n",
       " 1.0  1.0  1.0  1.0  1.0  1.0  1.0\n",
       " 1.0  1.0  1.0  1.0  1.0  1.0  1.0\n",
       " 1.0  1.0  1.0  1.0  1.0  1.0  1.0"
      ]
     },
     "execution_count": 255,
     "metadata": {},
     "output_type": "execute_result"
    }
   ],
   "source": [
    "sw"
   ]
  },
  {
   "cell_type": "code",
   "execution_count": 268,
   "metadata": {},
   "outputs": [
    {
     "name": "stdout",
     "output_type": "stream",
     "text": [
      "  6.942 μs (207 allocations: 14.83 KiB)\n"
     ]
    },
    {
     "data": {
      "text/plain": [
       "25-element Vector{Float32}:\n",
       " 18.169113\n",
       " 17.82045\n",
       " 17.82045\n",
       " 17.82045\n",
       " 17.86197\n",
       " 18.602419\n",
       " 18.757486\n",
       " 18.757486\n",
       " 18.757486\n",
       " 18.191597\n",
       " 18.602419\n",
       " 18.757486\n",
       " 18.757486\n",
       " 18.757486\n",
       " 18.191597\n",
       " 18.602419\n",
       " 18.757486\n",
       " 18.757486\n",
       " 18.757486\n",
       " 18.191597\n",
       " 19.333801\n",
       " 19.68295\n",
       " 19.68295\n",
       " 19.68295\n",
       " 20.07818"
      ]
     },
     "execution_count": 268,
     "metadata": {},
     "output_type": "execute_result"
    }
   ],
   "source": [
    "@btime slide_window(sample_DBZ, sw, std)[:]"
   ]
  },
  {
   "cell_type": "code",
   "execution_count": 88,
   "metadata": {},
   "outputs": [],
   "source": [
    "open(\"./ok.txt\", \"w\") do file \n",
    "    for task in tasks \n",
    "        write(file, \" \"  * task)\n",
    "    end \n",
    "end "
   ]
  },
  {
   "cell_type": "code",
   "execution_count": 269,
   "metadata": {},
   "outputs": [
    {
     "data": {
      "text/plain": [
       "5×5 Matrix{Union{Missing, Float32}}:\n",
       "  8.0  28.0  35.0  57.0  65.0\n",
       " 22.0  57.0  55.0  26.0  22.0\n",
       " 33.0  19.0  16.0  54.0  13.0\n",
       " 33.0   2.0  48.0  53.0  43.0\n",
       " 43.0  29.0  10.0  54.0  63.0"
      ]
     },
     "execution_count": 269,
     "metadata": {},
     "output_type": "execute_result"
    }
   ],
   "source": [
    "sample_DBZ"
   ]
  },
  {
   "cell_type": "code",
   "execution_count": 281,
   "metadata": {},
   "outputs": [
    {
     "data": {
      "text/plain": [
       "test_calculate_features (generic function with 1 method)"
      ]
     },
     "execution_count": 281,
     "metadata": {},
     "output_type": "execute_result"
    }
   ],
   "source": [
    "####Writing tests for calculate_features \n",
    "\n",
    "function test_calculate_features()\n",
    "\n",
    "    input_loc = ds_path\n",
    "    tasks=[\"VEL\", \"DBZ\", \"STD(DBZ)\", \"STD(DBZ)\"]\n",
    "    weight_matrixes = [pw, pw, sw, rw]\n",
    "    output_loc = joinpath(scratchspace, \"trash_output.h5\")\n",
    "    HAS_INTERACTIVE_QC = true\n",
    "\n",
    "    X1, Y1 = calculate_features(input_loc, tasks, weight_matrixes, output_loc, HAS_INTERACTIVE_QC;\n",
    "            verbose=true, REMOVE_LOW_NCP=false, NCP_THRESHOLD=Float32(.2), QC_variable =\"VG\", remove_variable = \"VEL\" )\n",
    "\n",
    "\n",
    "    @assert X1[:,2] == sample_DBZ[:]\n",
    "    @assert X1[:,1] == sample_VEL[:]\n",
    "    @assert Y1[:]   == .! map(ismissing, sample_VG[:])\n",
    "    ###Test file-specified arguments version of calculate features \n",
    "\n",
    "    input_loc = ds_path \n",
    "    print(tasks)\n",
    "    argfile_path = joinpath(scratchspace, \"./sample_tasks.txt\")\n",
    "    open(argfile_path, \"w\") do file \n",
    "        for task in tasks \n",
    "            write(file, \",\" * task)\n",
    "        end \n",
    "    end \n",
    "\n",
    "    X2, Y2 = calculate_features(input_loc, argfile_path, output_loc, true, QC_variable=\"VG\", remove_variable=\"VEL\", \n",
    "                        weight_matrixes = weight_matrixes)\n",
    "\n",
    "    @assert X1 == X2\n",
    "    @assert Y1 == Y2 \n",
    "\n",
    "    \n",
    "return X1, X2\n",
    "    \n",
    "end "
   ]
  },
  {
   "cell_type": "code",
   "execution_count": null,
   "metadata": {},
   "outputs": [],
   "source": []
  },
  {
   "cell_type": "code",
   "execution_count": null,
   "metadata": {},
   "outputs": [],
   "source": []
  },
  {
   "cell_type": "code",
   "execution_count": 282,
   "metadata": {},
   "outputs": [
    {
     "name": "stdout",
     "output_type": "stream",
     "text": [
      "Processed /Users/ischluesche/.julia/scratchspaces/905eca60-9fa9-4fb3-8835-f5cd63a3719c/ronin_testing/toy_set.nc in 0.002089977264404297 seconds\n",
      "COMPLETED PROCESSING 1 FILES IN 0.0 SECONDS\n",
      "OUTPUTTING DATA IN HDF5 FORMAT TO FILE: /Users/ischluesche/.julia/scratchspaces/905eca60-9fa9-4fb3-8835-f5cd63a3719c/ronin_testing/trash_output.h5\n",
      "\n",
      "WRITING DATA TO FILE OF SHAPE (25, 4)\n",
      "X TYPE: Matrix{Float32}\n",
      "[\"VEL\", \"DBZ\", \"STD(DBZ)\", \"STD(DBZ)\"]COMPLETED PROCESSING 1 FILES IN 0.0 SECONDS\n",
      "OUTPUTTING DATA IN HDF5 FORMAT TO FILE: /Users/ischluesche/.julia/scratchspaces/905eca60-9fa9-4fb3-8835-f5cd63a3719c/ronin_testing/trash_output.h5\n",
      "\n",
      "WRITING DATA TO FILE OF SHAPE (25, 4)\n",
      "X TYPE: Matrix{Float32}\n"
     ]
    },
    {
     "data": {
      "text/plain": [
       "(Float32[6.0 8.0 18.169113 17.461864; 18.0 22.0 17.82045 17.859392; … ; 2.0 43.0 19.682947 26.294888; 11.0 63.0 20.07818 24.581837], Float32[6.0 8.0 18.169113 17.461864; 18.0 22.0 17.82045 17.859392; … ; 2.0 43.0 19.682947 26.294888; 11.0 63.0 20.07818 24.581837])"
      ]
     },
     "execution_count": 282,
     "metadata": {},
     "output_type": "execute_result"
    }
   ],
   "source": [
    "X1, X2 = test_calculate_features()"
   ]
  },
  {
   "cell_type": "code",
   "execution_count": 138,
   "metadata": {},
   "outputs": [
    {
     "data": {
      "text/plain": [
       "25×4 Matrix{Float32}:\n",
       "   6.0   8.0  22.4678  17.4619\n",
       "  18.0  22.0  21.7316  17.8594\n",
       "  -3.0  33.0  22.391   17.8594\n",
       "   8.0  33.0  21.4871  17.8594\n",
       "  18.0  43.0  22.0424  19.0189\n",
       "  12.0  28.0  23.4338  19.9963\n",
       "   8.0  57.0  22.2224  19.4189\n",
       "   1.0  19.0  21.334   19.4189\n",
       "  15.0   2.0  22.3553  19.4189\n",
       "  10.0  29.0  23.604   20.4123\n",
       "  -5.0  35.0  23.4338  23.7675\n",
       "  19.0  55.0  22.2224  23.2029\n",
       "  18.0  16.0  21.334   23.2029\n",
       "   8.0  48.0  22.3553  23.2029\n",
       "  18.0  10.0  23.604   23.5199\n",
       "   9.0  57.0  23.4338  24.418\n",
       " -18.0  26.0  22.2224  25.0767\n",
       "   2.0  54.0  21.334   25.0767\n",
       "   0.0  53.0  22.3553  25.0767\n",
       " -20.0  54.0  23.604   24.0947\n",
       "   3.0  65.0  25.1369  25.0951\n",
       "  17.0  22.0  23.6516  26.2949\n",
       " -19.0  13.0  22.6864  26.2949\n",
       "   2.0  43.0  23.3206  26.2949\n",
       "  11.0  63.0  24.6194  24.5818"
      ]
     },
     "execution_count": 138,
     "metadata": {},
     "output_type": "execute_result"
    }
   ],
   "source": [
    "X2 "
   ]
  },
  {
   "cell_type": "code",
   "execution_count": 29,
   "metadata": {},
   "outputs": [
    {
     "data": {
      "text/plain": [
       "_weighted_func (generic function with 3 methods)"
      ]
     },
     "execution_count": 29,
     "metadata": {},
     "output_type": "execute_result"
    }
   ],
   "source": [
    "Ronin._weighted_func"
   ]
  },
  {
   "cell_type": "code",
   "execution_count": 31,
   "metadata": {},
   "outputs": [],
   "source": [
    "using ImageFiltering"
   ]
  },
  {
   "cell_type": "code",
   "execution_count": 80,
   "metadata": {},
   "outputs": [
    {
     "data": {
      "text/plain": [
       "get_window_matrixes (generic function with 1 method)"
      ]
     },
     "execution_count": 80,
     "metadata": {},
     "output_type": "execute_result"
    }
   ],
   "source": [
    "function get_window_matrixes(x) \n",
    "    println(\"OK $(x[4,4])\")\n",
    "    x[4,4]\n",
    "end "
   ]
  },
  {
   "cell_type": "code",
   "execution_count": 81,
   "metadata": {},
   "outputs": [
    {
     "name": "stdout",
     "output_type": "stream",
     "text": [
      "OK 8.0\n",
      "OK 8.0\n",
      "OK 22.0\n",
      "OK 33.0\n",
      "OK 33.0\n",
      "OK 43.0\n",
      "OK 28.0\n",
      "OK 57.0\n",
      "OK 19.0\n",
      "OK 2.0\n",
      "OK 29.0\n",
      "OK 35.0\n",
      "OK 55.0\n",
      "OK 16.0\n",
      "OK 48.0\n",
      "OK 10.0\n",
      "OK 57.0\n",
      "OK 26.0\n",
      "OK 54.0\n",
      "OK 53.0\n",
      "OK 54.0\n",
      "OK 65.0\n",
      "OK 22.0\n",
      "OK 13.0\n",
      "OK 43.0\n",
      "OK 63.0\n"
     ]
    },
    {
     "data": {
      "text/plain": [
       "5×5 Matrix{Float32}:\n",
       "  8.0  28.0  35.0  57.0  65.0\n",
       " 22.0  57.0  55.0  26.0  22.0\n",
       " 33.0  19.0  16.0  54.0  13.0\n",
       " 33.0   2.0  48.0  53.0  43.0\n",
       " 43.0  29.0  10.0  54.0  63.0"
      ]
     },
     "execution_count": 81,
     "metadata": {},
     "output_type": "execute_result"
    }
   ],
   "source": [
    "mapwindow(x -> get_window_matrixes(x), sample_DBZ, size(aw), border=Fill(missing))"
   ]
  },
  {
   "cell_type": "code",
   "execution_count": 55,
   "metadata": {},
   "outputs": [
    {
     "data": {
      "text/plain": [
       "5×5 Matrix{Union{Missing, Float32}}:\n",
       "  8.0  28.0  35.0  57.0  65.0\n",
       " 22.0  57.0  55.0  26.0  22.0\n",
       " 33.0  19.0  16.0  54.0  13.0\n",
       " 33.0   2.0  48.0  53.0  43.0\n",
       " 43.0  29.0  10.0  54.0  63.0"
      ]
     },
     "execution_count": 55,
     "metadata": {},
     "output_type": "execute_result"
    }
   ],
   "source": [
    "sample_DBZ"
   ]
  },
  {
   "cell_type": "code",
   "execution_count": 60,
   "metadata": {},
   "outputs": [
    {
     "data": {
      "text/plain": [
       "true"
      ]
     },
     "execution_count": 60,
     "metadata": {},
     "output_type": "execute_result"
    }
   ],
   "source": [
    "things[12] === things[11]"
   ]
  },
  {
   "cell_type": "code",
   "execution_count": 41,
   "metadata": {},
   "outputs": [
    {
     "data": {
      "text/plain": [
       "25×1 Matrix{Int64}:\n",
       " 0\n",
       " 0\n",
       " 0\n",
       " 0\n",
       " 0\n",
       " 1\n",
       " 1\n",
       " 0\n",
       " 1\n",
       " 1\n",
       " 1\n",
       " 1\n",
       " 0\n",
       " 1\n",
       " 1\n",
       " 1\n",
       " 1\n",
       " 0\n",
       " 1\n",
       " 1\n",
       " 1\n",
       " 1\n",
       " 0\n",
       " 1\n",
       " 1"
      ]
     },
     "execution_count": 41,
     "metadata": {},
     "output_type": "execute_result"
    }
   ],
   "source": [
    "Y"
   ]
  },
  {
   "cell_type": "code",
   "execution_count": 44,
   "metadata": {},
   "outputs": [
    {
     "data": {
      "text/plain": [
       "25×4 Matrix{Float32}:\n",
       "   6.0   8.0  22.4678  17.4619\n",
       "  18.0  22.0  21.7316  17.8594\n",
       "  -3.0  33.0  22.391   17.8594\n",
       "   8.0  33.0  21.4871  17.8594\n",
       "  18.0  43.0  22.0424  19.0189\n",
       "  12.0  28.0  23.4338  19.9963\n",
       "   8.0  57.0  22.2224  19.4189\n",
       "   1.0  19.0  21.334   19.4189\n",
       "  15.0   2.0  22.3553  19.4189\n",
       "  10.0  29.0  23.604   20.4123\n",
       "  -5.0  35.0  23.4338  23.7675\n",
       "  19.0  55.0  22.2224  23.2029\n",
       "  18.0  16.0  21.334   23.2029\n",
       "   8.0  48.0  22.3553  23.2029\n",
       "  18.0  10.0  23.604   23.5199\n",
       "   9.0  57.0  23.4338  24.418\n",
       " -18.0  26.0  22.2224  25.0767\n",
       "   2.0  54.0  21.334   25.0767\n",
       "   0.0  53.0  22.3553  25.0767\n",
       " -20.0  54.0  23.604   24.0947\n",
       "   3.0  65.0  25.1369  25.0951\n",
       "  17.0  22.0  23.6516  26.2949\n",
       " -19.0  13.0  22.6864  26.2949\n",
       "   2.0  43.0  23.3206  26.2949\n",
       "  11.0  63.0  24.6194  24.5818"
      ]
     },
     "execution_count": 44,
     "metadata": {},
     "output_type": "execute_result"
    }
   ],
   "source": [
    "X"
   ]
  },
  {
   "cell_type": "code",
   "execution_count": 43,
   "metadata": {},
   "outputs": [
    {
     "data": {
      "text/plain": [
       "24.619436f0"
      ]
     },
     "execution_count": 43,
     "metadata": {},
     "output_type": "execute_result"
    }
   ],
   "source": [
    "std(skipmissing(things[1] .* aw))"
   ]
  },
  {
   "cell_type": "code",
   "execution_count": 39,
   "metadata": {},
   "outputs": [
    {
     "data": {
      "text/plain": [
       "5×5 Matrix{Union{Missing, Float32}}:\n",
       "  8.0  28.0  35.0  57.0  65.0\n",
       " 22.0  57.0  55.0  26.0  22.0\n",
       " 33.0  19.0  16.0  54.0  13.0\n",
       " 33.0   2.0  48.0  53.0  43.0\n",
       " 43.0  29.0  10.0  54.0  63.0"
      ]
     },
     "execution_count": 39,
     "metadata": {},
     "output_type": "execute_result"
    }
   ],
   "source": [
    "sample_DBZ"
   ]
  },
  {
   "cell_type": "code",
   "execution_count": 27,
   "metadata": {},
   "outputs": [
    {
     "data": {
      "text/plain": [
       "7×7 Matrix{Union{Missing, Float32}}:\n",
       " 0.0  0.0  0.0  0.0  0.0  0.0  0.0\n",
       " 0.0  0.0  0.0  0.0  0.0  0.0  0.0\n",
       " 1.0  1.0  1.0  1.0  1.0  1.0  1.0\n",
       " 1.0  1.0  1.0  1.0  1.0  1.0  1.0\n",
       " 1.0  1.0  1.0  1.0  1.0  1.0  1.0\n",
       " 0.0  0.0  0.0  0.0  0.0  0.0  0.0\n",
       " 0.0  0.0  0.0  0.0  0.0  0.0  0.0"
      ]
     },
     "execution_count": 27,
     "metadata": {},
     "output_type": "execute_result"
    }
   ],
   "source": [
    "aw"
   ]
  },
  {
   "cell_type": "code",
   "execution_count": 21,
   "metadata": {},
   "outputs": [
    {
     "data": {
      "text/plain": [
       "19.443650777453175"
      ]
     },
     "execution_count": 21,
     "metadata": {},
     "output_type": "execute_result"
    }
   ],
   "source": [
    "std([8., 28., 35., 57., 22., 57.,55.,26., 65., 22.])"
   ]
  },
  {
   "cell_type": "code",
   "execution_count": 26,
   "metadata": {},
   "outputs": [
    {
     "data": {
      "text/plain": [
       "25×4 Matrix{Float32}:\n",
       "   6.0   8.0  22.4678  17.4619\n",
       "  18.0  22.0  21.7316  17.8594\n",
       "  -3.0  33.0  22.391   17.8594\n",
       "   8.0  33.0  21.4871  17.8594\n",
       "  18.0  43.0  22.0424  19.0189\n",
       "  12.0  28.0  23.4338  19.9963\n",
       "   8.0  57.0  22.2224  19.4189\n",
       "   1.0  19.0  21.334   19.4189\n",
       "  15.0   2.0  22.3553  19.4189\n",
       "  10.0  29.0  23.604   20.4123\n",
       "  -5.0  35.0  23.4338  23.7675\n",
       "  19.0  55.0  22.2224  23.2029\n",
       "  18.0  16.0  21.334   23.2029\n",
       "   8.0  48.0  22.3553  23.2029\n",
       "  18.0  10.0  23.604   23.5199\n",
       "   9.0  57.0  23.4338  24.418\n",
       " -18.0  26.0  22.2224  25.0767\n",
       "   2.0  54.0  21.334   25.0767\n",
       "   0.0  53.0  22.3553  25.0767\n",
       " -20.0  54.0  23.604   24.0947\n",
       "   3.0  65.0  25.1369  25.0951\n",
       "  17.0  22.0  23.6516  26.2949\n",
       " -19.0  13.0  22.6864  26.2949\n",
       "   2.0  43.0  23.3206  26.2949\n",
       "  11.0  63.0  24.6194  24.5818"
      ]
     },
     "execution_count": 26,
     "metadata": {},
     "output_type": "execute_result"
    }
   ],
   "source": [
    "X"
   ]
  },
  {
   "cell_type": "code",
   "execution_count": 23,
   "metadata": {},
   "outputs": [
    {
     "name": "stdout",
     "output_type": "stream",
     "text": [
      "Processed /Users/ischluesche/.julia/scratchspaces/905eca60-9fa9-4fb3-8835-f5cd63a3719c/ronin_testing/toy_set.nc in 0.007937192916870117 seconds\n",
      "COMPLETED PROCESSING 1 FILES IN 0.03 SECONDS\n",
      "OUTPUTTING DATA IN HDF5 FORMAT TO FILE: /Users/ischluesche/.julia/scratchspaces/905eca60-9fa9-4fb3-8835-f5cd63a3719c/ronin_testing/trash_output.h5\n",
      "\n",
      "WRITING DATA TO FILE OF SHAPE (25, 4)\n",
      "X TYPE: Matrix{Float32}\n"
     ]
    },
    {
     "data": {
      "text/plain": [
       "(Float32[6.0 8.0 22.467754 17.461864; 18.0 22.0 21.731615 17.859392; … ; 2.0 43.0 23.320648 26.294888; 11.0 63.0 24.619436 24.581837], [0; 0; … ; 1; 1;;])"
      ]
     },
     "execution_count": 23,
     "metadata": {},
     "output_type": "execute_result"
    }
   ],
   "source": []
  },
  {
   "cell_type": "code",
   "execution_count": 20,
   "metadata": {},
   "outputs": [
    {
     "data": {
      "text/plain": [
       "20×4 Matrix{Float32}:\n",
       "  12.0  28.0  23.4338  19.9963\n",
       "   8.0  57.0  22.2224  19.4189\n",
       "   1.0  19.0  21.334   19.4189\n",
       "  15.0   2.0  22.3553  19.4189\n",
       "  10.0  29.0  23.604   20.4123\n",
       "  -5.0  35.0  23.4338  23.7675\n",
       "  19.0  55.0  22.2224  23.2029\n",
       "  18.0  16.0  21.334   23.2029\n",
       "   8.0  48.0  22.3553  23.2029\n",
       "  18.0  10.0  23.604   23.5199\n",
       "   9.0  57.0  23.4338  24.418\n",
       " -18.0  26.0  22.2224  25.0767\n",
       "   2.0  54.0  21.334   25.0767\n",
       "   0.0  53.0  22.3553  25.0767\n",
       " -20.0  54.0  23.604   24.0947\n",
       "   3.0  65.0  25.1369  25.0951\n",
       "  17.0  22.0  23.6516  26.2949\n",
       " -19.0  13.0  22.6864  26.2949\n",
       "   2.0  43.0  23.3206  26.2949\n",
       "  11.0  63.0  24.6194  24.5818"
      ]
     },
     "execution_count": 20,
     "metadata": {},
     "output_type": "execute_result"
    }
   ],
   "source": [
    "X"
   ]
  },
  {
   "cell_type": "code",
   "execution_count": 14,
   "metadata": {},
   "outputs": [
    {
     "data": {
      "text/plain": [
       "5×5 Matrix{Float64}:\n",
       " 0.1  1.0  1.0  1.0  1.0\n",
       " 0.1  1.0  1.0  1.0  1.0\n",
       " 0.1  1.0  1.0  1.0  1.0\n",
       " 0.1  1.0  1.0  1.0  1.0\n",
       " 0.1  1.0  1.0  1.0  1.0"
      ]
     },
     "execution_count": 14,
     "metadata": {},
     "output_type": "execute_result"
    }
   ],
   "source": [
    "sample_NCP"
   ]
  },
  {
   "cell_type": "code",
   "execution_count": 13,
   "metadata": {},
   "outputs": [
    {
     "data": {
      "text/plain": [
       "5×5 Matrix{Union{Missing, Float32}}:\n",
       " missing  12.0       -5.0         9.0        3.0\n",
       " missing   8.0       19.0       -18.0       17.0\n",
       " missing    missing    missing     missing    missing\n",
       " missing  15.0        8.0         0.0        2.0\n",
       " missing  10.0       18.0       -20.0       11.0"
      ]
     },
     "execution_count": 13,
     "metadata": {},
     "output_type": "execute_result"
    }
   ],
   "source": [
    "sample_VG"
   ]
  },
  {
   "cell_type": "code",
   "execution_count": null,
   "metadata": {},
   "outputs": [],
   "source": []
  }
 ],
 "metadata": {
  "kernelspec": {
   "display_name": "Julia 1.11.3",
   "language": "julia",
   "name": "julia-1.11"
  },
  "language_info": {
   "file_extension": ".jl",
   "mimetype": "application/julia",
   "name": "julia",
   "version": "1.11.3"
  },
  "orig_nbformat": 4
 },
 "nbformat": 4,
 "nbformat_minor": 2
}
